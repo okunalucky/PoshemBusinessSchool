{
 "cells": [
  {
   "cell_type": "markdown",
   "id": "c2ab680c-23de-434a-87cd-7249c01bd325",
   "metadata": {},
   "source": [
    "## Importing the necessary libraries"
   ]
  },
  {
   "cell_type": "code",
   "execution_count": 2,
   "id": "5f6846cc-d760-47e3-882a-41228f3984d3",
   "metadata": {},
   "outputs": [],
   "source": [
    "\n",
    "import pandas as pd\n",
    "import numpy as np\n",
    "import matplotlib.pyplot as plt\n",
    "import seaborn as sns"
   ]
  },
  {
   "cell_type": "markdown",
   "id": "4900e24f-83f0-4307-a254-1e83042e4fd9",
   "metadata": {},
   "source": [
    "## Importing the dataframe"
   ]
  },
  {
   "cell_type": "code",
   "execution_count": 4,
   "id": "2a692362-9d37-417d-92ff-29ad25f9fa6f",
   "metadata": {},
   "outputs": [],
   "source": [
    "\n",
    "df1 = pd.read_csv('customer_table.csv')\n",
    "df2 = pd.read_csv('order_table.csv')\n",
    "df3 = pd.read_csv('product_table.csv')\n",
    "df4 = pd.read_csv('sales_table.csv')"
   ]
  },
  {
   "cell_type": "markdown",
   "id": "a44ed259-645b-4988-86b7-eba032185501",
   "metadata": {},
   "source": [
    "## Merging all the table using outerjoin"
   ]
  },
  {
   "cell_type": "code",
   "execution_count": 6,
   "id": "ea1417e9-25bd-4936-81d3-aadddc8f2c84",
   "metadata": {},
   "outputs": [],
   "source": [
    "outer_df = pd.merge(df1, df2, on = 'Row ID', how = 'outer')\n",
    "df5 = outer_df"
   ]
  },
  {
   "cell_type": "code",
   "execution_count": 7,
   "id": "d220cb71-b0ce-48eb-8aa9-36791f8bc43e",
   "metadata": {},
   "outputs": [
    {
     "data": {
      "text/html": [
       "<div>\n",
       "<style scoped>\n",
       "    .dataframe tbody tr th:only-of-type {\n",
       "        vertical-align: middle;\n",
       "    }\n",
       "\n",
       "    .dataframe tbody tr th {\n",
       "        vertical-align: top;\n",
       "    }\n",
       "\n",
       "    .dataframe thead th {\n",
       "        text-align: right;\n",
       "    }\n",
       "</style>\n",
       "<table border=\"1\" class=\"dataframe\">\n",
       "  <thead>\n",
       "    <tr style=\"text-align: right;\">\n",
       "      <th></th>\n",
       "      <th>Unnamed: 0_x</th>\n",
       "      <th>Customer ID</th>\n",
       "      <th>Customer Name</th>\n",
       "      <th>Segment</th>\n",
       "      <th>Country</th>\n",
       "      <th>City</th>\n",
       "      <th>State</th>\n",
       "      <th>Postal Code</th>\n",
       "      <th>Region</th>\n",
       "      <th>Row ID</th>\n",
       "      <th>ID</th>\n",
       "      <th>Unnamed: 0_y</th>\n",
       "      <th>Order ID</th>\n",
       "      <th>Order Date</th>\n",
       "      <th>Ship Date</th>\n",
       "      <th>Ship Mode</th>\n",
       "      <th>Unnamed: 0</th>\n",
       "      <th>Sales</th>\n",
       "    </tr>\n",
       "  </thead>\n",
       "  <tbody>\n",
       "    <tr>\n",
       "      <th>0</th>\n",
       "      <td>0</td>\n",
       "      <td>CG-12520</td>\n",
       "      <td>Claire Gute</td>\n",
       "      <td>Consumer</td>\n",
       "      <td>United States</td>\n",
       "      <td>Henderson</td>\n",
       "      <td>Kentucky</td>\n",
       "      <td>42420.0</td>\n",
       "      <td>South</td>\n",
       "      <td>1</td>\n",
       "      <td>1</td>\n",
       "      <td>0</td>\n",
       "      <td>CA-2017-152156</td>\n",
       "      <td>08/11/2017</td>\n",
       "      <td>11/11/2017</td>\n",
       "      <td>Second Class</td>\n",
       "      <td>0</td>\n",
       "      <td>261.9600</td>\n",
       "    </tr>\n",
       "    <tr>\n",
       "      <th>1</th>\n",
       "      <td>1</td>\n",
       "      <td>CG-12520</td>\n",
       "      <td>Claire Gute</td>\n",
       "      <td>Consumer</td>\n",
       "      <td>United States</td>\n",
       "      <td>Henderson</td>\n",
       "      <td>Kentucky</td>\n",
       "      <td>42420.0</td>\n",
       "      <td>South</td>\n",
       "      <td>2</td>\n",
       "      <td>2</td>\n",
       "      <td>1</td>\n",
       "      <td>CA-2017-152156</td>\n",
       "      <td>08/11/2017</td>\n",
       "      <td>11/11/2017</td>\n",
       "      <td>Second Class</td>\n",
       "      <td>1</td>\n",
       "      <td>731.9400</td>\n",
       "    </tr>\n",
       "    <tr>\n",
       "      <th>2</th>\n",
       "      <td>2</td>\n",
       "      <td>DV-13045</td>\n",
       "      <td>Darrin Van Huff</td>\n",
       "      <td>Corporate</td>\n",
       "      <td>United States</td>\n",
       "      <td>Los Angeles</td>\n",
       "      <td>California</td>\n",
       "      <td>90036.0</td>\n",
       "      <td>West</td>\n",
       "      <td>3</td>\n",
       "      <td>3</td>\n",
       "      <td>2</td>\n",
       "      <td>CA-2017-138688</td>\n",
       "      <td>12/06/2017</td>\n",
       "      <td>16/06/2017</td>\n",
       "      <td>Second Class</td>\n",
       "      <td>2</td>\n",
       "      <td>14.6200</td>\n",
       "    </tr>\n",
       "    <tr>\n",
       "      <th>3</th>\n",
       "      <td>3</td>\n",
       "      <td>SO-20335</td>\n",
       "      <td>Sean O'Donnell</td>\n",
       "      <td>Consumer</td>\n",
       "      <td>United States</td>\n",
       "      <td>Fort Lauderdale</td>\n",
       "      <td>Florida</td>\n",
       "      <td>33311.0</td>\n",
       "      <td>South</td>\n",
       "      <td>4</td>\n",
       "      <td>4</td>\n",
       "      <td>3</td>\n",
       "      <td>US-2016-108966</td>\n",
       "      <td>11/10/2016</td>\n",
       "      <td>18/10/2016</td>\n",
       "      <td>Standard Class</td>\n",
       "      <td>3</td>\n",
       "      <td>957.5775</td>\n",
       "    </tr>\n",
       "    <tr>\n",
       "      <th>4</th>\n",
       "      <td>4</td>\n",
       "      <td>SO-20335</td>\n",
       "      <td>Sean O'Donnell</td>\n",
       "      <td>Consumer</td>\n",
       "      <td>United States</td>\n",
       "      <td>Fort Lauderdale</td>\n",
       "      <td>Florida</td>\n",
       "      <td>33311.0</td>\n",
       "      <td>South</td>\n",
       "      <td>5</td>\n",
       "      <td>5</td>\n",
       "      <td>4</td>\n",
       "      <td>US-2016-108966</td>\n",
       "      <td>11/10/2016</td>\n",
       "      <td>18/10/2016</td>\n",
       "      <td>Standard Class</td>\n",
       "      <td>4</td>\n",
       "      <td>22.3680</td>\n",
       "    </tr>\n",
       "    <tr>\n",
       "      <th>...</th>\n",
       "      <td>...</td>\n",
       "      <td>...</td>\n",
       "      <td>...</td>\n",
       "      <td>...</td>\n",
       "      <td>...</td>\n",
       "      <td>...</td>\n",
       "      <td>...</td>\n",
       "      <td>...</td>\n",
       "      <td>...</td>\n",
       "      <td>...</td>\n",
       "      <td>...</td>\n",
       "      <td>...</td>\n",
       "      <td>...</td>\n",
       "      <td>...</td>\n",
       "      <td>...</td>\n",
       "      <td>...</td>\n",
       "      <td>...</td>\n",
       "      <td>...</td>\n",
       "    </tr>\n",
       "    <tr>\n",
       "      <th>9795</th>\n",
       "      <td>9795</td>\n",
       "      <td>SH-19975</td>\n",
       "      <td>Sally Hughsby</td>\n",
       "      <td>Corporate</td>\n",
       "      <td>United States</td>\n",
       "      <td>Chicago</td>\n",
       "      <td>Illinois</td>\n",
       "      <td>60610.0</td>\n",
       "      <td>Central</td>\n",
       "      <td>9796</td>\n",
       "      <td>9796</td>\n",
       "      <td>9795</td>\n",
       "      <td>CA-2017-125920</td>\n",
       "      <td>21/05/2017</td>\n",
       "      <td>28/05/2017</td>\n",
       "      <td>Standard Class</td>\n",
       "      <td>9795</td>\n",
       "      <td>3.7980</td>\n",
       "    </tr>\n",
       "    <tr>\n",
       "      <th>9796</th>\n",
       "      <td>9796</td>\n",
       "      <td>CS-12490</td>\n",
       "      <td>Cindy Schnelling</td>\n",
       "      <td>Corporate</td>\n",
       "      <td>United States</td>\n",
       "      <td>Toledo</td>\n",
       "      <td>Ohio</td>\n",
       "      <td>43615.0</td>\n",
       "      <td>East</td>\n",
       "      <td>9797</td>\n",
       "      <td>9797</td>\n",
       "      <td>9796</td>\n",
       "      <td>CA-2016-128608</td>\n",
       "      <td>12/01/2016</td>\n",
       "      <td>17/01/2016</td>\n",
       "      <td>Standard Class</td>\n",
       "      <td>9796</td>\n",
       "      <td>10.3680</td>\n",
       "    </tr>\n",
       "    <tr>\n",
       "      <th>9797</th>\n",
       "      <td>9797</td>\n",
       "      <td>CS-12490</td>\n",
       "      <td>Cindy Schnelling</td>\n",
       "      <td>Corporate</td>\n",
       "      <td>United States</td>\n",
       "      <td>Toledo</td>\n",
       "      <td>Ohio</td>\n",
       "      <td>43615.0</td>\n",
       "      <td>East</td>\n",
       "      <td>9798</td>\n",
       "      <td>9798</td>\n",
       "      <td>9797</td>\n",
       "      <td>CA-2016-128608</td>\n",
       "      <td>12/01/2016</td>\n",
       "      <td>17/01/2016</td>\n",
       "      <td>Standard Class</td>\n",
       "      <td>9797</td>\n",
       "      <td>235.1880</td>\n",
       "    </tr>\n",
       "    <tr>\n",
       "      <th>9798</th>\n",
       "      <td>9798</td>\n",
       "      <td>CS-12490</td>\n",
       "      <td>Cindy Schnelling</td>\n",
       "      <td>Corporate</td>\n",
       "      <td>United States</td>\n",
       "      <td>Toledo</td>\n",
       "      <td>Ohio</td>\n",
       "      <td>43615.0</td>\n",
       "      <td>East</td>\n",
       "      <td>9799</td>\n",
       "      <td>9799</td>\n",
       "      <td>9798</td>\n",
       "      <td>CA-2016-128608</td>\n",
       "      <td>12/01/2016</td>\n",
       "      <td>17/01/2016</td>\n",
       "      <td>Standard Class</td>\n",
       "      <td>9798</td>\n",
       "      <td>26.3760</td>\n",
       "    </tr>\n",
       "    <tr>\n",
       "      <th>9799</th>\n",
       "      <td>9799</td>\n",
       "      <td>CS-12490</td>\n",
       "      <td>Cindy Schnelling</td>\n",
       "      <td>Corporate</td>\n",
       "      <td>United States</td>\n",
       "      <td>Toledo</td>\n",
       "      <td>Ohio</td>\n",
       "      <td>43615.0</td>\n",
       "      <td>East</td>\n",
       "      <td>9800</td>\n",
       "      <td>9800</td>\n",
       "      <td>9799</td>\n",
       "      <td>CA-2016-128608</td>\n",
       "      <td>12/01/2016</td>\n",
       "      <td>17/01/2016</td>\n",
       "      <td>Standard Class</td>\n",
       "      <td>9799</td>\n",
       "      <td>10.3840</td>\n",
       "    </tr>\n",
       "  </tbody>\n",
       "</table>\n",
       "<p>9800 rows × 18 columns</p>\n",
       "</div>"
      ],
      "text/plain": [
       "      Unnamed: 0_x Customer ID     Customer Name    Segment        Country  \\\n",
       "0                0    CG-12520       Claire Gute   Consumer  United States   \n",
       "1                1    CG-12520       Claire Gute   Consumer  United States   \n",
       "2                2    DV-13045   Darrin Van Huff  Corporate  United States   \n",
       "3                3    SO-20335    Sean O'Donnell   Consumer  United States   \n",
       "4                4    SO-20335    Sean O'Donnell   Consumer  United States   \n",
       "...            ...         ...               ...        ...            ...   \n",
       "9795          9795    SH-19975     Sally Hughsby  Corporate  United States   \n",
       "9796          9796    CS-12490  Cindy Schnelling  Corporate  United States   \n",
       "9797          9797    CS-12490  Cindy Schnelling  Corporate  United States   \n",
       "9798          9798    CS-12490  Cindy Schnelling  Corporate  United States   \n",
       "9799          9799    CS-12490  Cindy Schnelling  Corporate  United States   \n",
       "\n",
       "                 City       State  Postal Code   Region  Row ID    ID  \\\n",
       "0           Henderson    Kentucky      42420.0    South       1     1   \n",
       "1           Henderson    Kentucky      42420.0    South       2     2   \n",
       "2         Los Angeles  California      90036.0     West       3     3   \n",
       "3     Fort Lauderdale     Florida      33311.0    South       4     4   \n",
       "4     Fort Lauderdale     Florida      33311.0    South       5     5   \n",
       "...               ...         ...          ...      ...     ...   ...   \n",
       "9795          Chicago    Illinois      60610.0  Central    9796  9796   \n",
       "9796           Toledo        Ohio      43615.0     East    9797  9797   \n",
       "9797           Toledo        Ohio      43615.0     East    9798  9798   \n",
       "9798           Toledo        Ohio      43615.0     East    9799  9799   \n",
       "9799           Toledo        Ohio      43615.0     East    9800  9800   \n",
       "\n",
       "      Unnamed: 0_y        Order ID  Order Date   Ship Date       Ship Mode  \\\n",
       "0                0  CA-2017-152156  08/11/2017  11/11/2017    Second Class   \n",
       "1                1  CA-2017-152156  08/11/2017  11/11/2017    Second Class   \n",
       "2                2  CA-2017-138688  12/06/2017  16/06/2017    Second Class   \n",
       "3                3  US-2016-108966  11/10/2016  18/10/2016  Standard Class   \n",
       "4                4  US-2016-108966  11/10/2016  18/10/2016  Standard Class   \n",
       "...            ...             ...         ...         ...             ...   \n",
       "9795          9795  CA-2017-125920  21/05/2017  28/05/2017  Standard Class   \n",
       "9796          9796  CA-2016-128608  12/01/2016  17/01/2016  Standard Class   \n",
       "9797          9797  CA-2016-128608  12/01/2016  17/01/2016  Standard Class   \n",
       "9798          9798  CA-2016-128608  12/01/2016  17/01/2016  Standard Class   \n",
       "9799          9799  CA-2016-128608  12/01/2016  17/01/2016  Standard Class   \n",
       "\n",
       "      Unnamed: 0     Sales  \n",
       "0              0  261.9600  \n",
       "1              1  731.9400  \n",
       "2              2   14.6200  \n",
       "3              3  957.5775  \n",
       "4              4   22.3680  \n",
       "...          ...       ...  \n",
       "9795        9795    3.7980  \n",
       "9796        9796   10.3680  \n",
       "9797        9797  235.1880  \n",
       "9798        9798   26.3760  \n",
       "9799        9799   10.3840  \n",
       "\n",
       "[9800 rows x 18 columns]"
      ]
     },
     "execution_count": 7,
     "metadata": {},
     "output_type": "execute_result"
    }
   ],
   "source": [
    "df6 = pd.merge(df5, df4, on = 'Row ID', how = 'outer')\n",
    "df6"
   ]
  },
  {
   "cell_type": "code",
   "execution_count": 8,
   "id": "a03e7d68-8b76-402a-a998-343d5ffd7284",
   "metadata": {},
   "outputs": [
    {
     "data": {
      "text/html": [
       "<div>\n",
       "<style scoped>\n",
       "    .dataframe tbody tr th:only-of-type {\n",
       "        vertical-align: middle;\n",
       "    }\n",
       "\n",
       "    .dataframe tbody tr th {\n",
       "        vertical-align: top;\n",
       "    }\n",
       "\n",
       "    .dataframe thead th {\n",
       "        text-align: right;\n",
       "    }\n",
       "</style>\n",
       "<table border=\"1\" class=\"dataframe\">\n",
       "  <thead>\n",
       "    <tr style=\"text-align: right;\">\n",
       "      <th></th>\n",
       "      <th>Unnamed: 0_x</th>\n",
       "      <th>Customer ID</th>\n",
       "      <th>Customer Name</th>\n",
       "      <th>Segment</th>\n",
       "      <th>Country</th>\n",
       "      <th>City</th>\n",
       "      <th>State</th>\n",
       "      <th>Postal Code</th>\n",
       "      <th>Region</th>\n",
       "      <th>Row ID</th>\n",
       "      <th>...</th>\n",
       "      <th>Order ID</th>\n",
       "      <th>Order Date</th>\n",
       "      <th>Ship Date</th>\n",
       "      <th>Ship Mode</th>\n",
       "      <th>Unnamed: 0</th>\n",
       "      <th>Sales</th>\n",
       "      <th>Product ID</th>\n",
       "      <th>Category</th>\n",
       "      <th>Sub-Category</th>\n",
       "      <th>Product Name</th>\n",
       "    </tr>\n",
       "  </thead>\n",
       "  <tbody>\n",
       "    <tr>\n",
       "      <th>0</th>\n",
       "      <td>0</td>\n",
       "      <td>CG-12520</td>\n",
       "      <td>Claire Gute</td>\n",
       "      <td>Consumer</td>\n",
       "      <td>United States</td>\n",
       "      <td>Henderson</td>\n",
       "      <td>Kentucky</td>\n",
       "      <td>42420.0</td>\n",
       "      <td>South</td>\n",
       "      <td>1</td>\n",
       "      <td>...</td>\n",
       "      <td>CA-2017-152156</td>\n",
       "      <td>08/11/2017</td>\n",
       "      <td>11/11/2017</td>\n",
       "      <td>Second Class</td>\n",
       "      <td>0</td>\n",
       "      <td>261.9600</td>\n",
       "      <td>FUR-BO-10001798</td>\n",
       "      <td>Furniture</td>\n",
       "      <td>Bookcases</td>\n",
       "      <td>Bush Somerset Collection Bookcase</td>\n",
       "    </tr>\n",
       "    <tr>\n",
       "      <th>1</th>\n",
       "      <td>1</td>\n",
       "      <td>CG-12520</td>\n",
       "      <td>Claire Gute</td>\n",
       "      <td>Consumer</td>\n",
       "      <td>United States</td>\n",
       "      <td>Henderson</td>\n",
       "      <td>Kentucky</td>\n",
       "      <td>42420.0</td>\n",
       "      <td>South</td>\n",
       "      <td>2</td>\n",
       "      <td>...</td>\n",
       "      <td>CA-2017-152156</td>\n",
       "      <td>08/11/2017</td>\n",
       "      <td>11/11/2017</td>\n",
       "      <td>Second Class</td>\n",
       "      <td>1</td>\n",
       "      <td>731.9400</td>\n",
       "      <td>FUR-CH-10000454</td>\n",
       "      <td>Furniture</td>\n",
       "      <td>Chairs</td>\n",
       "      <td>Hon Deluxe Fabric Upholstered Stacking Chairs,...</td>\n",
       "    </tr>\n",
       "    <tr>\n",
       "      <th>2</th>\n",
       "      <td>2</td>\n",
       "      <td>DV-13045</td>\n",
       "      <td>Darrin Van Huff</td>\n",
       "      <td>Corporate</td>\n",
       "      <td>United States</td>\n",
       "      <td>Los Angeles</td>\n",
       "      <td>California</td>\n",
       "      <td>90036.0</td>\n",
       "      <td>West</td>\n",
       "      <td>3</td>\n",
       "      <td>...</td>\n",
       "      <td>CA-2017-138688</td>\n",
       "      <td>12/06/2017</td>\n",
       "      <td>16/06/2017</td>\n",
       "      <td>Second Class</td>\n",
       "      <td>2</td>\n",
       "      <td>14.6200</td>\n",
       "      <td>OFF-LA-10000240</td>\n",
       "      <td>Office Supplies</td>\n",
       "      <td>Labels</td>\n",
       "      <td>Self-Adhesive Address Labels for Typewriters b...</td>\n",
       "    </tr>\n",
       "    <tr>\n",
       "      <th>3</th>\n",
       "      <td>3</td>\n",
       "      <td>SO-20335</td>\n",
       "      <td>Sean O'Donnell</td>\n",
       "      <td>Consumer</td>\n",
       "      <td>United States</td>\n",
       "      <td>Fort Lauderdale</td>\n",
       "      <td>Florida</td>\n",
       "      <td>33311.0</td>\n",
       "      <td>South</td>\n",
       "      <td>4</td>\n",
       "      <td>...</td>\n",
       "      <td>US-2016-108966</td>\n",
       "      <td>11/10/2016</td>\n",
       "      <td>18/10/2016</td>\n",
       "      <td>Standard Class</td>\n",
       "      <td>3</td>\n",
       "      <td>957.5775</td>\n",
       "      <td>FUR-TA-10000577</td>\n",
       "      <td>Furniture</td>\n",
       "      <td>Tables</td>\n",
       "      <td>Bretford CR4500 Series Slim Rectangular Table</td>\n",
       "    </tr>\n",
       "    <tr>\n",
       "      <th>4</th>\n",
       "      <td>4</td>\n",
       "      <td>SO-20335</td>\n",
       "      <td>Sean O'Donnell</td>\n",
       "      <td>Consumer</td>\n",
       "      <td>United States</td>\n",
       "      <td>Fort Lauderdale</td>\n",
       "      <td>Florida</td>\n",
       "      <td>33311.0</td>\n",
       "      <td>South</td>\n",
       "      <td>5</td>\n",
       "      <td>...</td>\n",
       "      <td>US-2016-108966</td>\n",
       "      <td>11/10/2016</td>\n",
       "      <td>18/10/2016</td>\n",
       "      <td>Standard Class</td>\n",
       "      <td>4</td>\n",
       "      <td>22.3680</td>\n",
       "      <td>OFF-ST-10000760</td>\n",
       "      <td>Office Supplies</td>\n",
       "      <td>Storage</td>\n",
       "      <td>Eldon Fold 'N Roll Cart System</td>\n",
       "    </tr>\n",
       "    <tr>\n",
       "      <th>...</th>\n",
       "      <td>...</td>\n",
       "      <td>...</td>\n",
       "      <td>...</td>\n",
       "      <td>...</td>\n",
       "      <td>...</td>\n",
       "      <td>...</td>\n",
       "      <td>...</td>\n",
       "      <td>...</td>\n",
       "      <td>...</td>\n",
       "      <td>...</td>\n",
       "      <td>...</td>\n",
       "      <td>...</td>\n",
       "      <td>...</td>\n",
       "      <td>...</td>\n",
       "      <td>...</td>\n",
       "      <td>...</td>\n",
       "      <td>...</td>\n",
       "      <td>...</td>\n",
       "      <td>...</td>\n",
       "      <td>...</td>\n",
       "      <td>...</td>\n",
       "    </tr>\n",
       "    <tr>\n",
       "      <th>9795</th>\n",
       "      <td>9795</td>\n",
       "      <td>SH-19975</td>\n",
       "      <td>Sally Hughsby</td>\n",
       "      <td>Corporate</td>\n",
       "      <td>United States</td>\n",
       "      <td>Chicago</td>\n",
       "      <td>Illinois</td>\n",
       "      <td>60610.0</td>\n",
       "      <td>Central</td>\n",
       "      <td>9796</td>\n",
       "      <td>...</td>\n",
       "      <td>CA-2017-125920</td>\n",
       "      <td>21/05/2017</td>\n",
       "      <td>28/05/2017</td>\n",
       "      <td>Standard Class</td>\n",
       "      <td>9795</td>\n",
       "      <td>3.7980</td>\n",
       "      <td>OFF-BI-10003429</td>\n",
       "      <td>Office Supplies</td>\n",
       "      <td>Binders</td>\n",
       "      <td>Cardinal HOLDit! Binder Insert Strips,Extra St...</td>\n",
       "    </tr>\n",
       "    <tr>\n",
       "      <th>9796</th>\n",
       "      <td>9796</td>\n",
       "      <td>CS-12490</td>\n",
       "      <td>Cindy Schnelling</td>\n",
       "      <td>Corporate</td>\n",
       "      <td>United States</td>\n",
       "      <td>Toledo</td>\n",
       "      <td>Ohio</td>\n",
       "      <td>43615.0</td>\n",
       "      <td>East</td>\n",
       "      <td>9797</td>\n",
       "      <td>...</td>\n",
       "      <td>CA-2016-128608</td>\n",
       "      <td>12/01/2016</td>\n",
       "      <td>17/01/2016</td>\n",
       "      <td>Standard Class</td>\n",
       "      <td>9796</td>\n",
       "      <td>10.3680</td>\n",
       "      <td>OFF-AR-10001374</td>\n",
       "      <td>Office Supplies</td>\n",
       "      <td>Art</td>\n",
       "      <td>BIC Brite Liner Highlighters, Chisel Tip</td>\n",
       "    </tr>\n",
       "    <tr>\n",
       "      <th>9797</th>\n",
       "      <td>9797</td>\n",
       "      <td>CS-12490</td>\n",
       "      <td>Cindy Schnelling</td>\n",
       "      <td>Corporate</td>\n",
       "      <td>United States</td>\n",
       "      <td>Toledo</td>\n",
       "      <td>Ohio</td>\n",
       "      <td>43615.0</td>\n",
       "      <td>East</td>\n",
       "      <td>9798</td>\n",
       "      <td>...</td>\n",
       "      <td>CA-2016-128608</td>\n",
       "      <td>12/01/2016</td>\n",
       "      <td>17/01/2016</td>\n",
       "      <td>Standard Class</td>\n",
       "      <td>9797</td>\n",
       "      <td>235.1880</td>\n",
       "      <td>TEC-PH-10004977</td>\n",
       "      <td>Technology</td>\n",
       "      <td>Phones</td>\n",
       "      <td>GE 30524EE4</td>\n",
       "    </tr>\n",
       "    <tr>\n",
       "      <th>9798</th>\n",
       "      <td>9798</td>\n",
       "      <td>CS-12490</td>\n",
       "      <td>Cindy Schnelling</td>\n",
       "      <td>Corporate</td>\n",
       "      <td>United States</td>\n",
       "      <td>Toledo</td>\n",
       "      <td>Ohio</td>\n",
       "      <td>43615.0</td>\n",
       "      <td>East</td>\n",
       "      <td>9799</td>\n",
       "      <td>...</td>\n",
       "      <td>CA-2016-128608</td>\n",
       "      <td>12/01/2016</td>\n",
       "      <td>17/01/2016</td>\n",
       "      <td>Standard Class</td>\n",
       "      <td>9798</td>\n",
       "      <td>26.3760</td>\n",
       "      <td>TEC-PH-10000912</td>\n",
       "      <td>Technology</td>\n",
       "      <td>Phones</td>\n",
       "      <td>Anker 24W Portable Micro USB Car Charger</td>\n",
       "    </tr>\n",
       "    <tr>\n",
       "      <th>9799</th>\n",
       "      <td>9799</td>\n",
       "      <td>CS-12490</td>\n",
       "      <td>Cindy Schnelling</td>\n",
       "      <td>Corporate</td>\n",
       "      <td>United States</td>\n",
       "      <td>Toledo</td>\n",
       "      <td>Ohio</td>\n",
       "      <td>43615.0</td>\n",
       "      <td>East</td>\n",
       "      <td>9800</td>\n",
       "      <td>...</td>\n",
       "      <td>CA-2016-128608</td>\n",
       "      <td>12/01/2016</td>\n",
       "      <td>17/01/2016</td>\n",
       "      <td>Standard Class</td>\n",
       "      <td>9799</td>\n",
       "      <td>10.3840</td>\n",
       "      <td>TEC-AC-10000487</td>\n",
       "      <td>Technology</td>\n",
       "      <td>Accessories</td>\n",
       "      <td>SanDisk Cruzer 4 GB USB Flash Drive</td>\n",
       "    </tr>\n",
       "  </tbody>\n",
       "</table>\n",
       "<p>9800 rows × 22 columns</p>\n",
       "</div>"
      ],
      "text/plain": [
       "      Unnamed: 0_x Customer ID     Customer Name    Segment        Country  \\\n",
       "0                0    CG-12520       Claire Gute   Consumer  United States   \n",
       "1                1    CG-12520       Claire Gute   Consumer  United States   \n",
       "2                2    DV-13045   Darrin Van Huff  Corporate  United States   \n",
       "3                3    SO-20335    Sean O'Donnell   Consumer  United States   \n",
       "4                4    SO-20335    Sean O'Donnell   Consumer  United States   \n",
       "...            ...         ...               ...        ...            ...   \n",
       "9795          9795    SH-19975     Sally Hughsby  Corporate  United States   \n",
       "9796          9796    CS-12490  Cindy Schnelling  Corporate  United States   \n",
       "9797          9797    CS-12490  Cindy Schnelling  Corporate  United States   \n",
       "9798          9798    CS-12490  Cindy Schnelling  Corporate  United States   \n",
       "9799          9799    CS-12490  Cindy Schnelling  Corporate  United States   \n",
       "\n",
       "                 City       State  Postal Code   Region  Row ID  ...  \\\n",
       "0           Henderson    Kentucky      42420.0    South       1  ...   \n",
       "1           Henderson    Kentucky      42420.0    South       2  ...   \n",
       "2         Los Angeles  California      90036.0     West       3  ...   \n",
       "3     Fort Lauderdale     Florida      33311.0    South       4  ...   \n",
       "4     Fort Lauderdale     Florida      33311.0    South       5  ...   \n",
       "...               ...         ...          ...      ...     ...  ...   \n",
       "9795          Chicago    Illinois      60610.0  Central    9796  ...   \n",
       "9796           Toledo        Ohio      43615.0     East    9797  ...   \n",
       "9797           Toledo        Ohio      43615.0     East    9798  ...   \n",
       "9798           Toledo        Ohio      43615.0     East    9799  ...   \n",
       "9799           Toledo        Ohio      43615.0     East    9800  ...   \n",
       "\n",
       "            Order ID  Order Date   Ship Date       Ship Mode Unnamed: 0  \\\n",
       "0     CA-2017-152156  08/11/2017  11/11/2017    Second Class          0   \n",
       "1     CA-2017-152156  08/11/2017  11/11/2017    Second Class          1   \n",
       "2     CA-2017-138688  12/06/2017  16/06/2017    Second Class          2   \n",
       "3     US-2016-108966  11/10/2016  18/10/2016  Standard Class          3   \n",
       "4     US-2016-108966  11/10/2016  18/10/2016  Standard Class          4   \n",
       "...              ...         ...         ...             ...        ...   \n",
       "9795  CA-2017-125920  21/05/2017  28/05/2017  Standard Class       9795   \n",
       "9796  CA-2016-128608  12/01/2016  17/01/2016  Standard Class       9796   \n",
       "9797  CA-2016-128608  12/01/2016  17/01/2016  Standard Class       9797   \n",
       "9798  CA-2016-128608  12/01/2016  17/01/2016  Standard Class       9798   \n",
       "9799  CA-2016-128608  12/01/2016  17/01/2016  Standard Class       9799   \n",
       "\n",
       "         Sales       Product ID         Category Sub-Category  \\\n",
       "0     261.9600  FUR-BO-10001798        Furniture    Bookcases   \n",
       "1     731.9400  FUR-CH-10000454        Furniture       Chairs   \n",
       "2      14.6200  OFF-LA-10000240  Office Supplies       Labels   \n",
       "3     957.5775  FUR-TA-10000577        Furniture       Tables   \n",
       "4      22.3680  OFF-ST-10000760  Office Supplies      Storage   \n",
       "...        ...              ...              ...          ...   \n",
       "9795    3.7980  OFF-BI-10003429  Office Supplies      Binders   \n",
       "9796   10.3680  OFF-AR-10001374  Office Supplies          Art   \n",
       "9797  235.1880  TEC-PH-10004977       Technology       Phones   \n",
       "9798   26.3760  TEC-PH-10000912       Technology       Phones   \n",
       "9799   10.3840  TEC-AC-10000487       Technology  Accessories   \n",
       "\n",
       "                                           Product Name  \n",
       "0                     Bush Somerset Collection Bookcase  \n",
       "1     Hon Deluxe Fabric Upholstered Stacking Chairs,...  \n",
       "2     Self-Adhesive Address Labels for Typewriters b...  \n",
       "3         Bretford CR4500 Series Slim Rectangular Table  \n",
       "4                        Eldon Fold 'N Roll Cart System  \n",
       "...                                                 ...  \n",
       "9795  Cardinal HOLDit! Binder Insert Strips,Extra St...  \n",
       "9796           BIC Brite Liner Highlighters, Chisel Tip  \n",
       "9797                                        GE 30524EE4  \n",
       "9798           Anker 24W Portable Micro USB Car Charger  \n",
       "9799                SanDisk Cruzer 4 GB USB Flash Drive  \n",
       "\n",
       "[9800 rows x 22 columns]"
      ]
     },
     "execution_count": 8,
     "metadata": {},
     "output_type": "execute_result"
    }
   ],
   "source": [
    "df7 = pd.merge(df6, df3,   how = 'outer')\n",
    "df7"
   ]
  },
  {
   "cell_type": "markdown",
   "id": "de417dce-86af-4fbc-a5dd-c6b6b768bd58",
   "metadata": {},
   "source": [
    "### Setting  the ID as the row index"
   ]
  },
  {
   "cell_type": "code",
   "execution_count": 10,
   "id": "162f3701-717c-4b2e-a257-e5b9d0519a63",
   "metadata": {},
   "outputs": [
    {
     "data": {
      "text/html": [
       "<div>\n",
       "<style scoped>\n",
       "    .dataframe tbody tr th:only-of-type {\n",
       "        vertical-align: middle;\n",
       "    }\n",
       "\n",
       "    .dataframe tbody tr th {\n",
       "        vertical-align: top;\n",
       "    }\n",
       "\n",
       "    .dataframe thead th {\n",
       "        text-align: right;\n",
       "    }\n",
       "</style>\n",
       "<table border=\"1\" class=\"dataframe\">\n",
       "  <thead>\n",
       "    <tr style=\"text-align: right;\">\n",
       "      <th></th>\n",
       "      <th>Unnamed: 0_x</th>\n",
       "      <th>Customer ID</th>\n",
       "      <th>Customer Name</th>\n",
       "      <th>Segment</th>\n",
       "      <th>Country</th>\n",
       "      <th>City</th>\n",
       "      <th>State</th>\n",
       "      <th>Postal Code</th>\n",
       "      <th>Region</th>\n",
       "      <th>Row ID</th>\n",
       "      <th>...</th>\n",
       "      <th>Order ID</th>\n",
       "      <th>Order Date</th>\n",
       "      <th>Ship Date</th>\n",
       "      <th>Ship Mode</th>\n",
       "      <th>Unnamed: 0</th>\n",
       "      <th>Sales</th>\n",
       "      <th>Product ID</th>\n",
       "      <th>Category</th>\n",
       "      <th>Sub-Category</th>\n",
       "      <th>Product Name</th>\n",
       "    </tr>\n",
       "    <tr>\n",
       "      <th>ID</th>\n",
       "      <th></th>\n",
       "      <th></th>\n",
       "      <th></th>\n",
       "      <th></th>\n",
       "      <th></th>\n",
       "      <th></th>\n",
       "      <th></th>\n",
       "      <th></th>\n",
       "      <th></th>\n",
       "      <th></th>\n",
       "      <th></th>\n",
       "      <th></th>\n",
       "      <th></th>\n",
       "      <th></th>\n",
       "      <th></th>\n",
       "      <th></th>\n",
       "      <th></th>\n",
       "      <th></th>\n",
       "      <th></th>\n",
       "      <th></th>\n",
       "      <th></th>\n",
       "    </tr>\n",
       "  </thead>\n",
       "  <tbody>\n",
       "    <tr>\n",
       "      <th>1</th>\n",
       "      <td>0</td>\n",
       "      <td>CG-12520</td>\n",
       "      <td>Claire Gute</td>\n",
       "      <td>Consumer</td>\n",
       "      <td>United States</td>\n",
       "      <td>Henderson</td>\n",
       "      <td>Kentucky</td>\n",
       "      <td>42420.0</td>\n",
       "      <td>South</td>\n",
       "      <td>1</td>\n",
       "      <td>...</td>\n",
       "      <td>CA-2017-152156</td>\n",
       "      <td>08/11/2017</td>\n",
       "      <td>11/11/2017</td>\n",
       "      <td>Second Class</td>\n",
       "      <td>0</td>\n",
       "      <td>261.9600</td>\n",
       "      <td>FUR-BO-10001798</td>\n",
       "      <td>Furniture</td>\n",
       "      <td>Bookcases</td>\n",
       "      <td>Bush Somerset Collection Bookcase</td>\n",
       "    </tr>\n",
       "    <tr>\n",
       "      <th>2</th>\n",
       "      <td>1</td>\n",
       "      <td>CG-12520</td>\n",
       "      <td>Claire Gute</td>\n",
       "      <td>Consumer</td>\n",
       "      <td>United States</td>\n",
       "      <td>Henderson</td>\n",
       "      <td>Kentucky</td>\n",
       "      <td>42420.0</td>\n",
       "      <td>South</td>\n",
       "      <td>2</td>\n",
       "      <td>...</td>\n",
       "      <td>CA-2017-152156</td>\n",
       "      <td>08/11/2017</td>\n",
       "      <td>11/11/2017</td>\n",
       "      <td>Second Class</td>\n",
       "      <td>1</td>\n",
       "      <td>731.9400</td>\n",
       "      <td>FUR-CH-10000454</td>\n",
       "      <td>Furniture</td>\n",
       "      <td>Chairs</td>\n",
       "      <td>Hon Deluxe Fabric Upholstered Stacking Chairs,...</td>\n",
       "    </tr>\n",
       "    <tr>\n",
       "      <th>3</th>\n",
       "      <td>2</td>\n",
       "      <td>DV-13045</td>\n",
       "      <td>Darrin Van Huff</td>\n",
       "      <td>Corporate</td>\n",
       "      <td>United States</td>\n",
       "      <td>Los Angeles</td>\n",
       "      <td>California</td>\n",
       "      <td>90036.0</td>\n",
       "      <td>West</td>\n",
       "      <td>3</td>\n",
       "      <td>...</td>\n",
       "      <td>CA-2017-138688</td>\n",
       "      <td>12/06/2017</td>\n",
       "      <td>16/06/2017</td>\n",
       "      <td>Second Class</td>\n",
       "      <td>2</td>\n",
       "      <td>14.6200</td>\n",
       "      <td>OFF-LA-10000240</td>\n",
       "      <td>Office Supplies</td>\n",
       "      <td>Labels</td>\n",
       "      <td>Self-Adhesive Address Labels for Typewriters b...</td>\n",
       "    </tr>\n",
       "    <tr>\n",
       "      <th>4</th>\n",
       "      <td>3</td>\n",
       "      <td>SO-20335</td>\n",
       "      <td>Sean O'Donnell</td>\n",
       "      <td>Consumer</td>\n",
       "      <td>United States</td>\n",
       "      <td>Fort Lauderdale</td>\n",
       "      <td>Florida</td>\n",
       "      <td>33311.0</td>\n",
       "      <td>South</td>\n",
       "      <td>4</td>\n",
       "      <td>...</td>\n",
       "      <td>US-2016-108966</td>\n",
       "      <td>11/10/2016</td>\n",
       "      <td>18/10/2016</td>\n",
       "      <td>Standard Class</td>\n",
       "      <td>3</td>\n",
       "      <td>957.5775</td>\n",
       "      <td>FUR-TA-10000577</td>\n",
       "      <td>Furniture</td>\n",
       "      <td>Tables</td>\n",
       "      <td>Bretford CR4500 Series Slim Rectangular Table</td>\n",
       "    </tr>\n",
       "    <tr>\n",
       "      <th>5</th>\n",
       "      <td>4</td>\n",
       "      <td>SO-20335</td>\n",
       "      <td>Sean O'Donnell</td>\n",
       "      <td>Consumer</td>\n",
       "      <td>United States</td>\n",
       "      <td>Fort Lauderdale</td>\n",
       "      <td>Florida</td>\n",
       "      <td>33311.0</td>\n",
       "      <td>South</td>\n",
       "      <td>5</td>\n",
       "      <td>...</td>\n",
       "      <td>US-2016-108966</td>\n",
       "      <td>11/10/2016</td>\n",
       "      <td>18/10/2016</td>\n",
       "      <td>Standard Class</td>\n",
       "      <td>4</td>\n",
       "      <td>22.3680</td>\n",
       "      <td>OFF-ST-10000760</td>\n",
       "      <td>Office Supplies</td>\n",
       "      <td>Storage</td>\n",
       "      <td>Eldon Fold 'N Roll Cart System</td>\n",
       "    </tr>\n",
       "    <tr>\n",
       "      <th>...</th>\n",
       "      <td>...</td>\n",
       "      <td>...</td>\n",
       "      <td>...</td>\n",
       "      <td>...</td>\n",
       "      <td>...</td>\n",
       "      <td>...</td>\n",
       "      <td>...</td>\n",
       "      <td>...</td>\n",
       "      <td>...</td>\n",
       "      <td>...</td>\n",
       "      <td>...</td>\n",
       "      <td>...</td>\n",
       "      <td>...</td>\n",
       "      <td>...</td>\n",
       "      <td>...</td>\n",
       "      <td>...</td>\n",
       "      <td>...</td>\n",
       "      <td>...</td>\n",
       "      <td>...</td>\n",
       "      <td>...</td>\n",
       "      <td>...</td>\n",
       "    </tr>\n",
       "    <tr>\n",
       "      <th>9796</th>\n",
       "      <td>9795</td>\n",
       "      <td>SH-19975</td>\n",
       "      <td>Sally Hughsby</td>\n",
       "      <td>Corporate</td>\n",
       "      <td>United States</td>\n",
       "      <td>Chicago</td>\n",
       "      <td>Illinois</td>\n",
       "      <td>60610.0</td>\n",
       "      <td>Central</td>\n",
       "      <td>9796</td>\n",
       "      <td>...</td>\n",
       "      <td>CA-2017-125920</td>\n",
       "      <td>21/05/2017</td>\n",
       "      <td>28/05/2017</td>\n",
       "      <td>Standard Class</td>\n",
       "      <td>9795</td>\n",
       "      <td>3.7980</td>\n",
       "      <td>OFF-BI-10003429</td>\n",
       "      <td>Office Supplies</td>\n",
       "      <td>Binders</td>\n",
       "      <td>Cardinal HOLDit! Binder Insert Strips,Extra St...</td>\n",
       "    </tr>\n",
       "    <tr>\n",
       "      <th>9797</th>\n",
       "      <td>9796</td>\n",
       "      <td>CS-12490</td>\n",
       "      <td>Cindy Schnelling</td>\n",
       "      <td>Corporate</td>\n",
       "      <td>United States</td>\n",
       "      <td>Toledo</td>\n",
       "      <td>Ohio</td>\n",
       "      <td>43615.0</td>\n",
       "      <td>East</td>\n",
       "      <td>9797</td>\n",
       "      <td>...</td>\n",
       "      <td>CA-2016-128608</td>\n",
       "      <td>12/01/2016</td>\n",
       "      <td>17/01/2016</td>\n",
       "      <td>Standard Class</td>\n",
       "      <td>9796</td>\n",
       "      <td>10.3680</td>\n",
       "      <td>OFF-AR-10001374</td>\n",
       "      <td>Office Supplies</td>\n",
       "      <td>Art</td>\n",
       "      <td>BIC Brite Liner Highlighters, Chisel Tip</td>\n",
       "    </tr>\n",
       "    <tr>\n",
       "      <th>9798</th>\n",
       "      <td>9797</td>\n",
       "      <td>CS-12490</td>\n",
       "      <td>Cindy Schnelling</td>\n",
       "      <td>Corporate</td>\n",
       "      <td>United States</td>\n",
       "      <td>Toledo</td>\n",
       "      <td>Ohio</td>\n",
       "      <td>43615.0</td>\n",
       "      <td>East</td>\n",
       "      <td>9798</td>\n",
       "      <td>...</td>\n",
       "      <td>CA-2016-128608</td>\n",
       "      <td>12/01/2016</td>\n",
       "      <td>17/01/2016</td>\n",
       "      <td>Standard Class</td>\n",
       "      <td>9797</td>\n",
       "      <td>235.1880</td>\n",
       "      <td>TEC-PH-10004977</td>\n",
       "      <td>Technology</td>\n",
       "      <td>Phones</td>\n",
       "      <td>GE 30524EE4</td>\n",
       "    </tr>\n",
       "    <tr>\n",
       "      <th>9799</th>\n",
       "      <td>9798</td>\n",
       "      <td>CS-12490</td>\n",
       "      <td>Cindy Schnelling</td>\n",
       "      <td>Corporate</td>\n",
       "      <td>United States</td>\n",
       "      <td>Toledo</td>\n",
       "      <td>Ohio</td>\n",
       "      <td>43615.0</td>\n",
       "      <td>East</td>\n",
       "      <td>9799</td>\n",
       "      <td>...</td>\n",
       "      <td>CA-2016-128608</td>\n",
       "      <td>12/01/2016</td>\n",
       "      <td>17/01/2016</td>\n",
       "      <td>Standard Class</td>\n",
       "      <td>9798</td>\n",
       "      <td>26.3760</td>\n",
       "      <td>TEC-PH-10000912</td>\n",
       "      <td>Technology</td>\n",
       "      <td>Phones</td>\n",
       "      <td>Anker 24W Portable Micro USB Car Charger</td>\n",
       "    </tr>\n",
       "    <tr>\n",
       "      <th>9800</th>\n",
       "      <td>9799</td>\n",
       "      <td>CS-12490</td>\n",
       "      <td>Cindy Schnelling</td>\n",
       "      <td>Corporate</td>\n",
       "      <td>United States</td>\n",
       "      <td>Toledo</td>\n",
       "      <td>Ohio</td>\n",
       "      <td>43615.0</td>\n",
       "      <td>East</td>\n",
       "      <td>9800</td>\n",
       "      <td>...</td>\n",
       "      <td>CA-2016-128608</td>\n",
       "      <td>12/01/2016</td>\n",
       "      <td>17/01/2016</td>\n",
       "      <td>Standard Class</td>\n",
       "      <td>9799</td>\n",
       "      <td>10.3840</td>\n",
       "      <td>TEC-AC-10000487</td>\n",
       "      <td>Technology</td>\n",
       "      <td>Accessories</td>\n",
       "      <td>SanDisk Cruzer 4 GB USB Flash Drive</td>\n",
       "    </tr>\n",
       "  </tbody>\n",
       "</table>\n",
       "<p>9800 rows × 21 columns</p>\n",
       "</div>"
      ],
      "text/plain": [
       "      Unnamed: 0_x Customer ID     Customer Name    Segment        Country  \\\n",
       "ID                                                                           \n",
       "1                0    CG-12520       Claire Gute   Consumer  United States   \n",
       "2                1    CG-12520       Claire Gute   Consumer  United States   \n",
       "3                2    DV-13045   Darrin Van Huff  Corporate  United States   \n",
       "4                3    SO-20335    Sean O'Donnell   Consumer  United States   \n",
       "5                4    SO-20335    Sean O'Donnell   Consumer  United States   \n",
       "...            ...         ...               ...        ...            ...   \n",
       "9796          9795    SH-19975     Sally Hughsby  Corporate  United States   \n",
       "9797          9796    CS-12490  Cindy Schnelling  Corporate  United States   \n",
       "9798          9797    CS-12490  Cindy Schnelling  Corporate  United States   \n",
       "9799          9798    CS-12490  Cindy Schnelling  Corporate  United States   \n",
       "9800          9799    CS-12490  Cindy Schnelling  Corporate  United States   \n",
       "\n",
       "                 City       State  Postal Code   Region  Row ID  ...  \\\n",
       "ID                                                               ...   \n",
       "1           Henderson    Kentucky      42420.0    South       1  ...   \n",
       "2           Henderson    Kentucky      42420.0    South       2  ...   \n",
       "3         Los Angeles  California      90036.0     West       3  ...   \n",
       "4     Fort Lauderdale     Florida      33311.0    South       4  ...   \n",
       "5     Fort Lauderdale     Florida      33311.0    South       5  ...   \n",
       "...               ...         ...          ...      ...     ...  ...   \n",
       "9796          Chicago    Illinois      60610.0  Central    9796  ...   \n",
       "9797           Toledo        Ohio      43615.0     East    9797  ...   \n",
       "9798           Toledo        Ohio      43615.0     East    9798  ...   \n",
       "9799           Toledo        Ohio      43615.0     East    9799  ...   \n",
       "9800           Toledo        Ohio      43615.0     East    9800  ...   \n",
       "\n",
       "            Order ID  Order Date   Ship Date       Ship Mode Unnamed: 0  \\\n",
       "ID                                                                        \n",
       "1     CA-2017-152156  08/11/2017  11/11/2017    Second Class          0   \n",
       "2     CA-2017-152156  08/11/2017  11/11/2017    Second Class          1   \n",
       "3     CA-2017-138688  12/06/2017  16/06/2017    Second Class          2   \n",
       "4     US-2016-108966  11/10/2016  18/10/2016  Standard Class          3   \n",
       "5     US-2016-108966  11/10/2016  18/10/2016  Standard Class          4   \n",
       "...              ...         ...         ...             ...        ...   \n",
       "9796  CA-2017-125920  21/05/2017  28/05/2017  Standard Class       9795   \n",
       "9797  CA-2016-128608  12/01/2016  17/01/2016  Standard Class       9796   \n",
       "9798  CA-2016-128608  12/01/2016  17/01/2016  Standard Class       9797   \n",
       "9799  CA-2016-128608  12/01/2016  17/01/2016  Standard Class       9798   \n",
       "9800  CA-2016-128608  12/01/2016  17/01/2016  Standard Class       9799   \n",
       "\n",
       "         Sales       Product ID         Category Sub-Category  \\\n",
       "ID                                                              \n",
       "1     261.9600  FUR-BO-10001798        Furniture    Bookcases   \n",
       "2     731.9400  FUR-CH-10000454        Furniture       Chairs   \n",
       "3      14.6200  OFF-LA-10000240  Office Supplies       Labels   \n",
       "4     957.5775  FUR-TA-10000577        Furniture       Tables   \n",
       "5      22.3680  OFF-ST-10000760  Office Supplies      Storage   \n",
       "...        ...              ...              ...          ...   \n",
       "9796    3.7980  OFF-BI-10003429  Office Supplies      Binders   \n",
       "9797   10.3680  OFF-AR-10001374  Office Supplies          Art   \n",
       "9798  235.1880  TEC-PH-10004977       Technology       Phones   \n",
       "9799   26.3760  TEC-PH-10000912       Technology       Phones   \n",
       "9800   10.3840  TEC-AC-10000487       Technology  Accessories   \n",
       "\n",
       "                                           Product Name  \n",
       "ID                                                       \n",
       "1                     Bush Somerset Collection Bookcase  \n",
       "2     Hon Deluxe Fabric Upholstered Stacking Chairs,...  \n",
       "3     Self-Adhesive Address Labels for Typewriters b...  \n",
       "4         Bretford CR4500 Series Slim Rectangular Table  \n",
       "5                        Eldon Fold 'N Roll Cart System  \n",
       "...                                                 ...  \n",
       "9796  Cardinal HOLDit! Binder Insert Strips,Extra St...  \n",
       "9797           BIC Brite Liner Highlighters, Chisel Tip  \n",
       "9798                                        GE 30524EE4  \n",
       "9799           Anker 24W Portable Micro USB Car Charger  \n",
       "9800                SanDisk Cruzer 4 GB USB Flash Drive  \n",
       "\n",
       "[9800 rows x 21 columns]"
      ]
     },
     "execution_count": 10,
     "metadata": {},
     "output_type": "execute_result"
    }
   ],
   "source": [
    "df7.set_index('ID', inplace = True)\n",
    "df7"
   ]
  },
  {
   "cell_type": "markdown",
   "id": "8c7a529d-5eb7-46d2-8364-c11d0c2abe1e",
   "metadata": {},
   "source": [
    "## Exploratory Data Analysis Question"
   ]
  },
  {
   "cell_type": "markdown",
   "id": "348e5198-3924-4be5-abeb-bcf271b6dba7",
   "metadata": {},
   "source": [
    "### What is the start and end date?"
   ]
  },
  {
   "cell_type": "code",
   "execution_count": 13,
   "id": "e4af42d1-ac3c-4df0-8dff-d97ec917dfc8",
   "metadata": {},
   "outputs": [],
   "source": [
    "df7['Order Date'] = pd.to_datetime(df7['Order Date'], dayfirst = True)"
   ]
  },
  {
   "cell_type": "code",
   "execution_count": 14,
   "id": "752091eb-5168-4745-b809-7c7e40ce91f2",
   "metadata": {},
   "outputs": [
    {
     "data": {
      "text/plain": [
       "Timestamp('2015-01-03 00:00:00')"
      ]
     },
     "execution_count": 14,
     "metadata": {},
     "output_type": "execute_result"
    }
   ],
   "source": [
    "df7['Order Date'].min()"
   ]
  },
  {
   "cell_type": "code",
   "execution_count": 15,
   "id": "7786d286-a071-40dd-9c21-b93b7828ced8",
   "metadata": {},
   "outputs": [
    {
     "data": {
      "text/plain": [
       "Timestamp('2018-12-30 00:00:00')"
      ]
     },
     "execution_count": 15,
     "metadata": {},
     "output_type": "execute_result"
    }
   ],
   "source": [
    "df7['Order Date'].max()"
   ]
  },
  {
   "cell_type": "markdown",
   "id": "a1befcbd-72d6-4419-af23-778deff8af6e",
   "metadata": {},
   "source": [
    "#### the start date is 3rd January 2015 and the end date is 30th December 2018"
   ]
  },
  {
   "cell_type": "code",
   "execution_count": 17,
   "id": "c0b9a383-be0c-4d22-8883-0068ec774670",
   "metadata": {},
   "outputs": [],
   "source": [
    "df7['Ship Date'] = pd.to_datetime(df7['Ship Date'], dayfirst = True)"
   ]
  },
  {
   "cell_type": "code",
   "execution_count": 18,
   "id": "1f279171-a998-4961-967b-05aee86c9fe2",
   "metadata": {},
   "outputs": [
    {
     "data": {
      "text/plain": [
       "Timestamp('2015-01-07 00:00:00')"
      ]
     },
     "execution_count": 18,
     "metadata": {},
     "output_type": "execute_result"
    }
   ],
   "source": [
    "df7['Ship Date'].min()"
   ]
  },
  {
   "cell_type": "markdown",
   "id": "ef231b47-cf37-42f3-85d2-61bbb4df7725",
   "metadata": {},
   "source": [
    "### What is the shape of the dataframe"
   ]
  },
  {
   "cell_type": "code",
   "execution_count": 20,
   "id": "efc9a774-1a9b-4498-8ccd-11e0bea1fb80",
   "metadata": {},
   "outputs": [
    {
     "data": {
      "text/plain": [
       "(9800, 21)"
      ]
     },
     "execution_count": 20,
     "metadata": {},
     "output_type": "execute_result"
    }
   ],
   "source": [
    "\n",
    "df7.shape"
   ]
  },
  {
   "cell_type": "markdown",
   "id": "7706a142-9d6f-49f2-9db7-dd8eb547e991",
   "metadata": {},
   "source": [
    "#### there are 9800 rows and 22 columns"
   ]
  },
  {
   "cell_type": "markdown",
   "id": "8323d0e8-bde2-41a4-96fb-abd00bea4d0f",
   "metadata": {},
   "source": [
    "### Are there missing values? If yes list them and fix them"
   ]
  },
  {
   "cell_type": "code",
   "execution_count": 23,
   "id": "036e3f64-1b67-4764-a53c-5ff9d2f9db5e",
   "metadata": {},
   "outputs": [
    {
     "data": {
      "text/plain": [
       "Unnamed: 0_x      0\n",
       "Customer ID       0\n",
       "Customer Name     0\n",
       "Segment           0\n",
       "Country           0\n",
       "City              0\n",
       "State             0\n",
       "Postal Code      11\n",
       "Region            0\n",
       "Row ID            0\n",
       "Unnamed: 0_y      0\n",
       "Order ID          0\n",
       "Order Date        0\n",
       "Ship Date         0\n",
       "Ship Mode         0\n",
       "Unnamed: 0        0\n",
       "Sales             0\n",
       "Product ID        0\n",
       "Category          0\n",
       "Sub-Category      0\n",
       "Product Name      0\n",
       "dtype: int64"
      ]
     },
     "execution_count": 23,
     "metadata": {},
     "output_type": "execute_result"
    }
   ],
   "source": [
    "\n",
    "df7.isna().sum()"
   ]
  },
  {
   "cell_type": "markdown",
   "id": "1d53c908-e146-4eeb-8a78-87c203b580ea",
   "metadata": {},
   "source": [
    "##### there are 11 missing values in the postal code column"
   ]
  },
  {
   "cell_type": "code",
   "execution_count": 188,
   "id": "3d838fe1-f37b-4fe6-9a0b-55aecf021d53",
   "metadata": {},
   "outputs": [
    {
     "data": {
      "text/html": [
       "<div>\n",
       "<style scoped>\n",
       "    .dataframe tbody tr th:only-of-type {\n",
       "        vertical-align: middle;\n",
       "    }\n",
       "\n",
       "    .dataframe tbody tr th {\n",
       "        vertical-align: top;\n",
       "    }\n",
       "\n",
       "    .dataframe thead th {\n",
       "        text-align: right;\n",
       "    }\n",
       "</style>\n",
       "<table border=\"1\" class=\"dataframe\">\n",
       "  <thead>\n",
       "    <tr style=\"text-align: right;\">\n",
       "      <th></th>\n",
       "      <th>Unnamed: 0_x</th>\n",
       "      <th>Customer ID</th>\n",
       "      <th>Customer Name</th>\n",
       "      <th>Segment</th>\n",
       "      <th>Country</th>\n",
       "      <th>City</th>\n",
       "      <th>State</th>\n",
       "      <th>Postal Code</th>\n",
       "      <th>Region</th>\n",
       "      <th>Row ID</th>\n",
       "      <th>...</th>\n",
       "      <th>Order Date</th>\n",
       "      <th>Ship Date</th>\n",
       "      <th>Ship Mode</th>\n",
       "      <th>Unnamed: 0</th>\n",
       "      <th>Sales</th>\n",
       "      <th>Product ID</th>\n",
       "      <th>Category</th>\n",
       "      <th>Sub-Category</th>\n",
       "      <th>Product Name</th>\n",
       "      <th>delivery time</th>\n",
       "    </tr>\n",
       "    <tr>\n",
       "      <th>ID</th>\n",
       "      <th></th>\n",
       "      <th></th>\n",
       "      <th></th>\n",
       "      <th></th>\n",
       "      <th></th>\n",
       "      <th></th>\n",
       "      <th></th>\n",
       "      <th></th>\n",
       "      <th></th>\n",
       "      <th></th>\n",
       "      <th></th>\n",
       "      <th></th>\n",
       "      <th></th>\n",
       "      <th></th>\n",
       "      <th></th>\n",
       "      <th></th>\n",
       "      <th></th>\n",
       "      <th></th>\n",
       "      <th></th>\n",
       "      <th></th>\n",
       "      <th></th>\n",
       "    </tr>\n",
       "  </thead>\n",
       "  <tbody>\n",
       "    <tr>\n",
       "      <th>2235</th>\n",
       "      <td>2234</td>\n",
       "      <td>QJ-19255</td>\n",
       "      <td>Quincy Jones</td>\n",
       "      <td>Corporate</td>\n",
       "      <td>United States</td>\n",
       "      <td>Burlington</td>\n",
       "      <td>Vermont</td>\n",
       "      <td>NaN</td>\n",
       "      <td>East</td>\n",
       "      <td>2235</td>\n",
       "      <td>...</td>\n",
       "      <td>2018-12-05</td>\n",
       "      <td>2018-12-10</td>\n",
       "      <td>Standard Class</td>\n",
       "      <td>2234</td>\n",
       "      <td>205.03</td>\n",
       "      <td>TEC-AC-10001013</td>\n",
       "      <td>Technology</td>\n",
       "      <td>Accessories</td>\n",
       "      <td>Logitech ClearChat Comfort/USB Headset H390</td>\n",
       "      <td>5</td>\n",
       "    </tr>\n",
       "    <tr>\n",
       "      <th>5275</th>\n",
       "      <td>5274</td>\n",
       "      <td>SV-20785</td>\n",
       "      <td>Stewart Visinsky</td>\n",
       "      <td>Consumer</td>\n",
       "      <td>United States</td>\n",
       "      <td>Burlington</td>\n",
       "      <td>Vermont</td>\n",
       "      <td>NaN</td>\n",
       "      <td>East</td>\n",
       "      <td>5275</td>\n",
       "      <td>...</td>\n",
       "      <td>2016-11-07</td>\n",
       "      <td>2016-11-09</td>\n",
       "      <td>Second Class</td>\n",
       "      <td>5274</td>\n",
       "      <td>715.20</td>\n",
       "      <td>FUR-CH-10000595</td>\n",
       "      <td>Furniture</td>\n",
       "      <td>Chairs</td>\n",
       "      <td>Safco Contoured Stacking Chairs</td>\n",
       "      <td>2</td>\n",
       "    </tr>\n",
       "    <tr>\n",
       "      <th>8799</th>\n",
       "      <td>8798</td>\n",
       "      <td>VM-21685</td>\n",
       "      <td>Valerie Mitchum</td>\n",
       "      <td>Home Office</td>\n",
       "      <td>United States</td>\n",
       "      <td>Burlington</td>\n",
       "      <td>Vermont</td>\n",
       "      <td>NaN</td>\n",
       "      <td>East</td>\n",
       "      <td>8799</td>\n",
       "      <td>...</td>\n",
       "      <td>2017-04-06</td>\n",
       "      <td>2017-04-10</td>\n",
       "      <td>Standard Class</td>\n",
       "      <td>8798</td>\n",
       "      <td>1294.75</td>\n",
       "      <td>TEC-PH-10002555</td>\n",
       "      <td>Technology</td>\n",
       "      <td>Phones</td>\n",
       "      <td>Nortel Meridian M5316 Digital phone</td>\n",
       "      <td>4</td>\n",
       "    </tr>\n",
       "    <tr>\n",
       "      <th>9147</th>\n",
       "      <td>9146</td>\n",
       "      <td>CB-12535</td>\n",
       "      <td>Claudia Bergmann</td>\n",
       "      <td>Corporate</td>\n",
       "      <td>United States</td>\n",
       "      <td>Burlington</td>\n",
       "      <td>Vermont</td>\n",
       "      <td>NaN</td>\n",
       "      <td>East</td>\n",
       "      <td>9147</td>\n",
       "      <td>...</td>\n",
       "      <td>2017-01-23</td>\n",
       "      <td>2017-01-27</td>\n",
       "      <td>Standard Class</td>\n",
       "      <td>9146</td>\n",
       "      <td>99.98</td>\n",
       "      <td>TEC-AC-10002926</td>\n",
       "      <td>Technology</td>\n",
       "      <td>Accessories</td>\n",
       "      <td>Logitech Wireless Marathon Mouse M705</td>\n",
       "      <td>4</td>\n",
       "    </tr>\n",
       "    <tr>\n",
       "      <th>9148</th>\n",
       "      <td>9147</td>\n",
       "      <td>CB-12535</td>\n",
       "      <td>Claudia Bergmann</td>\n",
       "      <td>Corporate</td>\n",
       "      <td>United States</td>\n",
       "      <td>Burlington</td>\n",
       "      <td>Vermont</td>\n",
       "      <td>NaN</td>\n",
       "      <td>East</td>\n",
       "      <td>9148</td>\n",
       "      <td>...</td>\n",
       "      <td>2017-01-23</td>\n",
       "      <td>2017-01-27</td>\n",
       "      <td>Standard Class</td>\n",
       "      <td>9147</td>\n",
       "      <td>8.04</td>\n",
       "      <td>OFF-AR-10003477</td>\n",
       "      <td>Office Supplies</td>\n",
       "      <td>Art</td>\n",
       "      <td>4009 Highlighters</td>\n",
       "      <td>4</td>\n",
       "    </tr>\n",
       "    <tr>\n",
       "      <th>9149</th>\n",
       "      <td>9148</td>\n",
       "      <td>CB-12535</td>\n",
       "      <td>Claudia Bergmann</td>\n",
       "      <td>Corporate</td>\n",
       "      <td>United States</td>\n",
       "      <td>Burlington</td>\n",
       "      <td>Vermont</td>\n",
       "      <td>NaN</td>\n",
       "      <td>East</td>\n",
       "      <td>9149</td>\n",
       "      <td>...</td>\n",
       "      <td>2017-01-23</td>\n",
       "      <td>2017-01-27</td>\n",
       "      <td>Standard Class</td>\n",
       "      <td>9148</td>\n",
       "      <td>1564.29</td>\n",
       "      <td>OFF-ST-10001526</td>\n",
       "      <td>Office Supplies</td>\n",
       "      <td>Storage</td>\n",
       "      <td>Iceberg Mobile Mega Data/Printer Cart</td>\n",
       "      <td>4</td>\n",
       "    </tr>\n",
       "    <tr>\n",
       "      <th>9387</th>\n",
       "      <td>9386</td>\n",
       "      <td>RM-19375</td>\n",
       "      <td>Raymond Messe</td>\n",
       "      <td>Consumer</td>\n",
       "      <td>United States</td>\n",
       "      <td>Burlington</td>\n",
       "      <td>Vermont</td>\n",
       "      <td>NaN</td>\n",
       "      <td>East</td>\n",
       "      <td>9387</td>\n",
       "      <td>...</td>\n",
       "      <td>2018-01-19</td>\n",
       "      <td>2018-01-23</td>\n",
       "      <td>Standard Class</td>\n",
       "      <td>9386</td>\n",
       "      <td>79.92</td>\n",
       "      <td>OFF-PA-10000157</td>\n",
       "      <td>Office Supplies</td>\n",
       "      <td>Paper</td>\n",
       "      <td>Xerox 191</td>\n",
       "      <td>4</td>\n",
       "    </tr>\n",
       "    <tr>\n",
       "      <th>9388</th>\n",
       "      <td>9387</td>\n",
       "      <td>RM-19375</td>\n",
       "      <td>Raymond Messe</td>\n",
       "      <td>Consumer</td>\n",
       "      <td>United States</td>\n",
       "      <td>Burlington</td>\n",
       "      <td>Vermont</td>\n",
       "      <td>NaN</td>\n",
       "      <td>East</td>\n",
       "      <td>9388</td>\n",
       "      <td>...</td>\n",
       "      <td>2018-01-19</td>\n",
       "      <td>2018-01-23</td>\n",
       "      <td>Standard Class</td>\n",
       "      <td>9387</td>\n",
       "      <td>12.28</td>\n",
       "      <td>OFF-PA-10001970</td>\n",
       "      <td>Office Supplies</td>\n",
       "      <td>Paper</td>\n",
       "      <td>Xerox 1881</td>\n",
       "      <td>4</td>\n",
       "    </tr>\n",
       "    <tr>\n",
       "      <th>9389</th>\n",
       "      <td>9388</td>\n",
       "      <td>RM-19375</td>\n",
       "      <td>Raymond Messe</td>\n",
       "      <td>Consumer</td>\n",
       "      <td>United States</td>\n",
       "      <td>Burlington</td>\n",
       "      <td>Vermont</td>\n",
       "      <td>NaN</td>\n",
       "      <td>East</td>\n",
       "      <td>9389</td>\n",
       "      <td>...</td>\n",
       "      <td>2018-01-19</td>\n",
       "      <td>2018-01-23</td>\n",
       "      <td>Standard Class</td>\n",
       "      <td>9388</td>\n",
       "      <td>542.94</td>\n",
       "      <td>OFF-AP-10000828</td>\n",
       "      <td>Office Supplies</td>\n",
       "      <td>Appliances</td>\n",
       "      <td>Avanti 4.4 Cu. Ft. Refrigerator</td>\n",
       "      <td>4</td>\n",
       "    </tr>\n",
       "    <tr>\n",
       "      <th>9390</th>\n",
       "      <td>9389</td>\n",
       "      <td>RM-19375</td>\n",
       "      <td>Raymond Messe</td>\n",
       "      <td>Consumer</td>\n",
       "      <td>United States</td>\n",
       "      <td>Burlington</td>\n",
       "      <td>Vermont</td>\n",
       "      <td>NaN</td>\n",
       "      <td>East</td>\n",
       "      <td>9390</td>\n",
       "      <td>...</td>\n",
       "      <td>2018-01-19</td>\n",
       "      <td>2018-01-23</td>\n",
       "      <td>Standard Class</td>\n",
       "      <td>9389</td>\n",
       "      <td>2.04</td>\n",
       "      <td>OFF-EN-10001509</td>\n",
       "      <td>Office Supplies</td>\n",
       "      <td>Envelopes</td>\n",
       "      <td>Poly String Tie Envelopes</td>\n",
       "      <td>4</td>\n",
       "    </tr>\n",
       "    <tr>\n",
       "      <th>9742</th>\n",
       "      <td>9741</td>\n",
       "      <td>QJ-19255</td>\n",
       "      <td>Quincy Jones</td>\n",
       "      <td>Corporate</td>\n",
       "      <td>United States</td>\n",
       "      <td>Burlington</td>\n",
       "      <td>Vermont</td>\n",
       "      <td>NaN</td>\n",
       "      <td>East</td>\n",
       "      <td>9742</td>\n",
       "      <td>...</td>\n",
       "      <td>2016-11-08</td>\n",
       "      <td>2016-11-12</td>\n",
       "      <td>Standard Class</td>\n",
       "      <td>9741</td>\n",
       "      <td>4404.90</td>\n",
       "      <td>FUR-BO-10004834</td>\n",
       "      <td>Furniture</td>\n",
       "      <td>Bookcases</td>\n",
       "      <td>Riverside Palais Royal Lawyers Bookcase, Royal...</td>\n",
       "      <td>4</td>\n",
       "    </tr>\n",
       "  </tbody>\n",
       "</table>\n",
       "<p>11 rows × 22 columns</p>\n",
       "</div>"
      ],
      "text/plain": [
       "      Unnamed: 0_x Customer ID     Customer Name      Segment        Country  \\\n",
       "ID                                                                             \n",
       "2235          2234    QJ-19255      Quincy Jones    Corporate  United States   \n",
       "5275          5274    SV-20785  Stewart Visinsky     Consumer  United States   \n",
       "8799          8798    VM-21685   Valerie Mitchum  Home Office  United States   \n",
       "9147          9146    CB-12535  Claudia Bergmann    Corporate  United States   \n",
       "9148          9147    CB-12535  Claudia Bergmann    Corporate  United States   \n",
       "9149          9148    CB-12535  Claudia Bergmann    Corporate  United States   \n",
       "9387          9386    RM-19375     Raymond Messe     Consumer  United States   \n",
       "9388          9387    RM-19375     Raymond Messe     Consumer  United States   \n",
       "9389          9388    RM-19375     Raymond Messe     Consumer  United States   \n",
       "9390          9389    RM-19375     Raymond Messe     Consumer  United States   \n",
       "9742          9741    QJ-19255      Quincy Jones    Corporate  United States   \n",
       "\n",
       "            City    State  Postal Code Region  Row ID  ...  Order Date  \\\n",
       "ID                                                     ...               \n",
       "2235  Burlington  Vermont          NaN   East    2235  ...  2018-12-05   \n",
       "5275  Burlington  Vermont          NaN   East    5275  ...  2016-11-07   \n",
       "8799  Burlington  Vermont          NaN   East    8799  ...  2017-04-06   \n",
       "9147  Burlington  Vermont          NaN   East    9147  ...  2017-01-23   \n",
       "9148  Burlington  Vermont          NaN   East    9148  ...  2017-01-23   \n",
       "9149  Burlington  Vermont          NaN   East    9149  ...  2017-01-23   \n",
       "9387  Burlington  Vermont          NaN   East    9387  ...  2018-01-19   \n",
       "9388  Burlington  Vermont          NaN   East    9388  ...  2018-01-19   \n",
       "9389  Burlington  Vermont          NaN   East    9389  ...  2018-01-19   \n",
       "9390  Burlington  Vermont          NaN   East    9390  ...  2018-01-19   \n",
       "9742  Burlington  Vermont          NaN   East    9742  ...  2016-11-08   \n",
       "\n",
       "      Ship Date       Ship Mode Unnamed: 0    Sales       Product ID  \\\n",
       "ID                                                                     \n",
       "2235 2018-12-10  Standard Class       2234   205.03  TEC-AC-10001013   \n",
       "5275 2016-11-09    Second Class       5274   715.20  FUR-CH-10000595   \n",
       "8799 2017-04-10  Standard Class       8798  1294.75  TEC-PH-10002555   \n",
       "9147 2017-01-27  Standard Class       9146    99.98  TEC-AC-10002926   \n",
       "9148 2017-01-27  Standard Class       9147     8.04  OFF-AR-10003477   \n",
       "9149 2017-01-27  Standard Class       9148  1564.29  OFF-ST-10001526   \n",
       "9387 2018-01-23  Standard Class       9386    79.92  OFF-PA-10000157   \n",
       "9388 2018-01-23  Standard Class       9387    12.28  OFF-PA-10001970   \n",
       "9389 2018-01-23  Standard Class       9388   542.94  OFF-AP-10000828   \n",
       "9390 2018-01-23  Standard Class       9389     2.04  OFF-EN-10001509   \n",
       "9742 2016-11-12  Standard Class       9741  4404.90  FUR-BO-10004834   \n",
       "\n",
       "             Category Sub-Category  \\\n",
       "ID                                   \n",
       "2235       Technology  Accessories   \n",
       "5275        Furniture       Chairs   \n",
       "8799       Technology       Phones   \n",
       "9147       Technology  Accessories   \n",
       "9148  Office Supplies          Art   \n",
       "9149  Office Supplies      Storage   \n",
       "9387  Office Supplies        Paper   \n",
       "9388  Office Supplies        Paper   \n",
       "9389  Office Supplies   Appliances   \n",
       "9390  Office Supplies    Envelopes   \n",
       "9742        Furniture    Bookcases   \n",
       "\n",
       "                                           Product Name delivery time  \n",
       "ID                                                                     \n",
       "2235        Logitech ClearChat Comfort/USB Headset H390             5  \n",
       "5275                    Safco Contoured Stacking Chairs             2  \n",
       "8799                Nortel Meridian M5316 Digital phone             4  \n",
       "9147              Logitech Wireless Marathon Mouse M705             4  \n",
       "9148                                  4009 Highlighters             4  \n",
       "9149              Iceberg Mobile Mega Data/Printer Cart             4  \n",
       "9387                                          Xerox 191             4  \n",
       "9388                                         Xerox 1881             4  \n",
       "9389                    Avanti 4.4 Cu. Ft. Refrigerator             4  \n",
       "9390                          Poly String Tie Envelopes             4  \n",
       "9742  Riverside Palais Royal Lawyers Bookcase, Royal...             4  \n",
       "\n",
       "[11 rows x 22 columns]"
      ]
     },
     "execution_count": 188,
     "metadata": {},
     "output_type": "execute_result"
    }
   ],
   "source": [
    "#listing the missing values\n",
    "df7[df7.isna().any(axis = 1)]"
   ]
  },
  {
   "cell_type": "code",
   "execution_count": 196,
   "id": "6c708444-be05-4432-8d73-fb506730ff71",
   "metadata": {},
   "outputs": [],
   "source": [
    "#filling the missing values with inconclusive data\n",
    "df7['Postal Code'].fillna('inconclusive data', inplace = True)\n",
    "import warnings\n",
    "warnings.filterwarnings('ignore')"
   ]
  },
  {
   "cell_type": "code",
   "execution_count": 192,
   "id": "8cf1842e-2b5a-4c14-be37-12d2081811b2",
   "metadata": {},
   "outputs": [
    {
     "data": {
      "text/plain": [
       "0"
      ]
     },
     "execution_count": 192,
     "metadata": {},
     "output_type": "execute_result"
    }
   ],
   "source": [
    "#missing values have been fixed\n",
    "df7['Postal Code'].isna().sum()"
   ]
  },
  {
   "cell_type": "markdown",
   "id": "9982528a-c855-459b-b485-992309658871",
   "metadata": {},
   "source": [
    "### What are the data types of each column?"
   ]
  },
  {
   "cell_type": "code",
   "execution_count": 26,
   "id": "58287411-a6e5-42c3-80e1-83dfaef14359",
   "metadata": {},
   "outputs": [
    {
     "data": {
      "text/plain": [
       "Unnamed: 0_x              int64\n",
       "Customer ID              object\n",
       "Customer Name            object\n",
       "Segment                  object\n",
       "Country                  object\n",
       "City                     object\n",
       "State                    object\n",
       "Postal Code             float64\n",
       "Region                   object\n",
       "Row ID                    int64\n",
       "Unnamed: 0_y              int64\n",
       "Order ID                 object\n",
       "Order Date       datetime64[ns]\n",
       "Ship Date        datetime64[ns]\n",
       "Ship Mode                object\n",
       "Unnamed: 0                int64\n",
       "Sales                   float64\n",
       "Product ID               object\n",
       "Category                 object\n",
       "Sub-Category             object\n",
       "Product Name             object\n",
       "dtype: object"
      ]
     },
     "execution_count": 26,
     "metadata": {},
     "output_type": "execute_result"
    }
   ],
   "source": [
    "#datatypes of each columns\n",
    "df7.dtypes"
   ]
  },
  {
   "cell_type": "markdown",
   "id": "031ec898-8468-43f1-960d-bbdb6ea5b31a",
   "metadata": {},
   "source": [
    "### Are there duplicates in the dataset? If yes list them and fix them"
   ]
  },
  {
   "cell_type": "code",
   "execution_count": 28,
   "id": "6d3ac182-ef58-4cc2-a8d1-ef0ace3cbba9",
   "metadata": {},
   "outputs": [
    {
     "data": {
      "text/plain": [
       "0"
      ]
     },
     "execution_count": 28,
     "metadata": {},
     "output_type": "execute_result"
    }
   ],
   "source": [
    "#checking for duplicates\n",
    "df7.duplicated().sum()"
   ]
  },
  {
   "cell_type": "markdown",
   "id": "351d6c4b-230b-4416-8e5c-0d7a802e2151",
   "metadata": {},
   "source": [
    "#### there are no duplicates in the data"
   ]
  },
  {
   "cell_type": "markdown",
   "id": "4a81f572-4d49-46ee-8282-86b84b0af572",
   "metadata": {},
   "source": [
    "### Give a quick statistical description of numerical contents in the dataset"
   ]
  },
  {
   "cell_type": "code",
   "execution_count": 31,
   "id": "19be20eb-c507-4e6c-8c6d-75efc71b6a77",
   "metadata": {},
   "outputs": [
    {
     "data": {
      "text/html": [
       "<div>\n",
       "<style scoped>\n",
       "    .dataframe tbody tr th:only-of-type {\n",
       "        vertical-align: middle;\n",
       "    }\n",
       "\n",
       "    .dataframe tbody tr th {\n",
       "        vertical-align: top;\n",
       "    }\n",
       "\n",
       "    .dataframe thead th {\n",
       "        text-align: right;\n",
       "    }\n",
       "</style>\n",
       "<table border=\"1\" class=\"dataframe\">\n",
       "  <thead>\n",
       "    <tr style=\"text-align: right;\">\n",
       "      <th></th>\n",
       "      <th>Unnamed: 0_x</th>\n",
       "      <th>Postal Code</th>\n",
       "      <th>Row ID</th>\n",
       "      <th>Unnamed: 0_y</th>\n",
       "      <th>Order Date</th>\n",
       "      <th>Ship Date</th>\n",
       "      <th>Unnamed: 0</th>\n",
       "      <th>Sales</th>\n",
       "    </tr>\n",
       "  </thead>\n",
       "  <tbody>\n",
       "    <tr>\n",
       "      <th>count</th>\n",
       "      <td>9800.000000</td>\n",
       "      <td>9789.000000</td>\n",
       "      <td>9800.000000</td>\n",
       "      <td>9800.000000</td>\n",
       "      <td>9800</td>\n",
       "      <td>9800</td>\n",
       "      <td>9800.000000</td>\n",
       "      <td>9800.000000</td>\n",
       "    </tr>\n",
       "    <tr>\n",
       "      <th>mean</th>\n",
       "      <td>4899.500000</td>\n",
       "      <td>55273.322403</td>\n",
       "      <td>4900.500000</td>\n",
       "      <td>4899.500000</td>\n",
       "      <td>2017-05-01 05:13:51.673469440</td>\n",
       "      <td>2017-05-05 04:17:52.653061120</td>\n",
       "      <td>4899.500000</td>\n",
       "      <td>230.769059</td>\n",
       "    </tr>\n",
       "    <tr>\n",
       "      <th>min</th>\n",
       "      <td>0.000000</td>\n",
       "      <td>1040.000000</td>\n",
       "      <td>1.000000</td>\n",
       "      <td>0.000000</td>\n",
       "      <td>2015-01-03 00:00:00</td>\n",
       "      <td>2015-01-07 00:00:00</td>\n",
       "      <td>0.000000</td>\n",
       "      <td>0.444000</td>\n",
       "    </tr>\n",
       "    <tr>\n",
       "      <th>25%</th>\n",
       "      <td>2449.750000</td>\n",
       "      <td>23223.000000</td>\n",
       "      <td>2450.750000</td>\n",
       "      <td>2449.750000</td>\n",
       "      <td>2016-05-24 00:00:00</td>\n",
       "      <td>2016-05-27 18:00:00</td>\n",
       "      <td>2449.750000</td>\n",
       "      <td>17.248000</td>\n",
       "    </tr>\n",
       "    <tr>\n",
       "      <th>50%</th>\n",
       "      <td>4899.500000</td>\n",
       "      <td>58103.000000</td>\n",
       "      <td>4900.500000</td>\n",
       "      <td>4899.500000</td>\n",
       "      <td>2017-06-26 00:00:00</td>\n",
       "      <td>2017-06-29 00:00:00</td>\n",
       "      <td>4899.500000</td>\n",
       "      <td>54.490000</td>\n",
       "    </tr>\n",
       "    <tr>\n",
       "      <th>75%</th>\n",
       "      <td>7349.250000</td>\n",
       "      <td>90008.000000</td>\n",
       "      <td>7350.250000</td>\n",
       "      <td>7349.250000</td>\n",
       "      <td>2018-05-15 00:00:00</td>\n",
       "      <td>2018-05-19 00:00:00</td>\n",
       "      <td>7349.250000</td>\n",
       "      <td>210.605000</td>\n",
       "    </tr>\n",
       "    <tr>\n",
       "      <th>max</th>\n",
       "      <td>9799.000000</td>\n",
       "      <td>99301.000000</td>\n",
       "      <td>9800.000000</td>\n",
       "      <td>9799.000000</td>\n",
       "      <td>2018-12-30 00:00:00</td>\n",
       "      <td>2019-01-05 00:00:00</td>\n",
       "      <td>9799.000000</td>\n",
       "      <td>22638.480000</td>\n",
       "    </tr>\n",
       "    <tr>\n",
       "      <th>std</th>\n",
       "      <td>2829.160653</td>\n",
       "      <td>32041.223413</td>\n",
       "      <td>2829.160653</td>\n",
       "      <td>2829.160653</td>\n",
       "      <td>NaN</td>\n",
       "      <td>NaN</td>\n",
       "      <td>2829.160653</td>\n",
       "      <td>626.651875</td>\n",
       "    </tr>\n",
       "  </tbody>\n",
       "</table>\n",
       "</div>"
      ],
      "text/plain": [
       "       Unnamed: 0_x   Postal Code       Row ID  Unnamed: 0_y  \\\n",
       "count   9800.000000   9789.000000  9800.000000   9800.000000   \n",
       "mean    4899.500000  55273.322403  4900.500000   4899.500000   \n",
       "min        0.000000   1040.000000     1.000000      0.000000   \n",
       "25%     2449.750000  23223.000000  2450.750000   2449.750000   \n",
       "50%     4899.500000  58103.000000  4900.500000   4899.500000   \n",
       "75%     7349.250000  90008.000000  7350.250000   7349.250000   \n",
       "max     9799.000000  99301.000000  9800.000000   9799.000000   \n",
       "std     2829.160653  32041.223413  2829.160653   2829.160653   \n",
       "\n",
       "                          Order Date                      Ship Date  \\\n",
       "count                           9800                           9800   \n",
       "mean   2017-05-01 05:13:51.673469440  2017-05-05 04:17:52.653061120   \n",
       "min              2015-01-03 00:00:00            2015-01-07 00:00:00   \n",
       "25%              2016-05-24 00:00:00            2016-05-27 18:00:00   \n",
       "50%              2017-06-26 00:00:00            2017-06-29 00:00:00   \n",
       "75%              2018-05-15 00:00:00            2018-05-19 00:00:00   \n",
       "max              2018-12-30 00:00:00            2019-01-05 00:00:00   \n",
       "std                              NaN                            NaN   \n",
       "\n",
       "        Unnamed: 0         Sales  \n",
       "count  9800.000000   9800.000000  \n",
       "mean   4899.500000    230.769059  \n",
       "min       0.000000      0.444000  \n",
       "25%    2449.750000     17.248000  \n",
       "50%    4899.500000     54.490000  \n",
       "75%    7349.250000    210.605000  \n",
       "max    9799.000000  22638.480000  \n",
       "std    2829.160653    626.651875  "
      ]
     },
     "execution_count": 31,
     "metadata": {},
     "output_type": "execute_result"
    }
   ],
   "source": [
    "#showing statistical description of the numerical columns\n",
    "df7.describe()"
   ]
  },
  {
   "cell_type": "markdown",
   "id": "db8cdfda-81e9-4a5a-8d4e-8aee79d25b03",
   "metadata": {},
   "source": [
    "#### the count of sales is 9800.000000, mean sale is 230.769059, the minimum sale is 0.444000  and the maximum sale is 22638.480000\n"
   ]
  },
  {
   "cell_type": "markdown",
   "id": "e8ddf8d0-6391-4b2e-a474-16867658d4c4",
   "metadata": {},
   "source": [
    "## order statistics"
   ]
  },
  {
   "cell_type": "markdown",
   "id": "e5665bfa-6e7b-430d-866a-f20e74da9516",
   "metadata": {},
   "source": [
    "###  How many unique orders are there in the dataset?"
   ]
  },
  {
   "cell_type": "code",
   "execution_count": 35,
   "id": "ddac94be-9222-445e-9148-33b384c900dc",
   "metadata": {},
   "outputs": [
    {
     "data": {
      "text/plain": [
       "4922"
      ]
     },
     "execution_count": 35,
     "metadata": {},
     "output_type": "execute_result"
    }
   ],
   "source": [
    "df7['Order ID'].nunique()"
   ]
  },
  {
   "cell_type": "markdown",
   "id": "47466959-eb8c-4884-a130-6c46f9942163",
   "metadata": {},
   "source": [
    "#### there are 4922 unique orders in the data set"
   ]
  },
  {
   "cell_type": "markdown",
   "id": "72f11c3e-c681-44c4-91f2-3fffd401483b",
   "metadata": {},
   "source": [
    "### What is the distribution of order statuses (e.g., delivered, pending)?"
   ]
  },
  {
   "cell_type": "markdown",
   "id": "50794489-334a-45b5-8055-567f2366f916",
   "metadata": {},
   "source": [
    "#### there is no column for order status"
   ]
  },
  {
   "cell_type": "markdown",
   "id": "bf736d41-de52-4b86-82a9-7649c8c17951",
   "metadata": {},
   "source": [
    "### How many unique customers are there?"
   ]
  },
  {
   "cell_type": "code",
   "execution_count": 40,
   "id": "a3e237ec-8d94-420c-a2d2-a032561bc651",
   "metadata": {},
   "outputs": [
    {
     "data": {
      "text/plain": [
       "793"
      ]
     },
     "execution_count": 40,
     "metadata": {},
     "output_type": "execute_result"
    }
   ],
   "source": [
    "df7['Customer ID'].nunique()"
   ]
  },
  {
   "cell_type": "markdown",
   "id": "ff7d9c46-0ca6-4c85-abb2-39fdfe849c1c",
   "metadata": {},
   "source": [
    "#### there are 793 unique customers"
   ]
  },
  {
   "cell_type": "markdown",
   "id": "e23d579f-c079-47e7-b547-b3864ba829d1",
   "metadata": {},
   "source": [
    "### Geographical Insights"
   ]
  },
  {
   "cell_type": "code",
   "execution_count": 43,
   "id": "e03efbbd-7e86-42a1-952b-8adbc51fa72e",
   "metadata": {},
   "outputs": [
    {
     "data": {
      "text/plain": [
       "array(['United States'], dtype=object)"
      ]
     },
     "execution_count": 43,
     "metadata": {},
     "output_type": "execute_result"
    }
   ],
   "source": [
    "#countries included in the dataset\n",
    "df7['Country'].unique()"
   ]
  },
  {
   "cell_type": "code",
   "execution_count": 44,
   "id": "4013873e-74f4-42b2-9e1b-1fad264c7284",
   "metadata": {},
   "outputs": [
    {
     "data": {
      "text/plain": [
       "1"
      ]
     },
     "execution_count": 44,
     "metadata": {},
     "output_type": "execute_result"
    }
   ],
   "source": [
    "df7['Country'].nunique()"
   ]
  },
  {
   "cell_type": "markdown",
   "id": "a3dcdad8-24cc-41ba-ab90-08fba4519f87",
   "metadata": {},
   "source": [
    "#### only one country is included in the data set and is United States"
   ]
  },
  {
   "cell_type": "markdown",
   "id": "a08460c5-4443-45be-ae28-887689740413",
   "metadata": {},
   "source": [
    "### What is the distribution of orders across different regions"
   ]
  },
  {
   "cell_type": "code",
   "execution_count": 47,
   "id": "59ffac41-3012-462d-a2b1-0ba15db6b628",
   "metadata": {},
   "outputs": [],
   "source": [
    "#distribution of orders across the region\n",
    "region_counts = df7.groupby('Region').size().reset_index(name='order_count')"
   ]
  },
  {
   "cell_type": "code",
   "execution_count": 48,
   "id": "a831023d-73d8-4afa-87d4-f75d518c51e8",
   "metadata": {},
   "outputs": [
    {
     "data": {
      "text/html": [
       "<div>\n",
       "<style scoped>\n",
       "    .dataframe tbody tr th:only-of-type {\n",
       "        vertical-align: middle;\n",
       "    }\n",
       "\n",
       "    .dataframe tbody tr th {\n",
       "        vertical-align: top;\n",
       "    }\n",
       "\n",
       "    .dataframe thead th {\n",
       "        text-align: right;\n",
       "    }\n",
       "</style>\n",
       "<table border=\"1\" class=\"dataframe\">\n",
       "  <thead>\n",
       "    <tr style=\"text-align: right;\">\n",
       "      <th></th>\n",
       "      <th>Region</th>\n",
       "      <th>order_count</th>\n",
       "    </tr>\n",
       "  </thead>\n",
       "  <tbody>\n",
       "    <tr>\n",
       "      <th>0</th>\n",
       "      <td>Central</td>\n",
       "      <td>2277</td>\n",
       "    </tr>\n",
       "    <tr>\n",
       "      <th>1</th>\n",
       "      <td>East</td>\n",
       "      <td>2785</td>\n",
       "    </tr>\n",
       "    <tr>\n",
       "      <th>2</th>\n",
       "      <td>South</td>\n",
       "      <td>1598</td>\n",
       "    </tr>\n",
       "    <tr>\n",
       "      <th>3</th>\n",
       "      <td>West</td>\n",
       "      <td>3140</td>\n",
       "    </tr>\n",
       "  </tbody>\n",
       "</table>\n",
       "</div>"
      ],
      "text/plain": [
       "    Region  order_count\n",
       "0  Central         2277\n",
       "1     East         2785\n",
       "2    South         1598\n",
       "3     West         3140"
      ]
     },
     "execution_count": 48,
     "metadata": {},
     "output_type": "execute_result"
    }
   ],
   "source": [
    "region_counts"
   ]
  },
  {
   "cell_type": "code",
   "execution_count": 49,
   "id": "526380d3-2625-4c06-911c-b86cec00ed26",
   "metadata": {},
   "outputs": [
    {
     "data": {
      "text/plain": [
       "<Axes: xlabel='Region', ylabel='order_count'>"
      ]
     },
     "execution_count": 49,
     "metadata": {},
     "output_type": "execute_result"
    },
    {
     "data": {
      "image/png": "[encoded data removed]",
      "text/plain": [
       "<Figure size 640x480 with 1 Axes>"
      ]
     },
     "metadata": {},
     "output_type": "display_data"
    }
   ],
   "source": [
    "sns.barplot(x='Region', y='order_count', data=region_counts, hue = 'Region')"
   ]
  },
  {
   "cell_type": "markdown",
   "id": "a3829979-a571-4f6b-9a2d-e6dbb14063c0",
   "metadata": {},
   "source": [
    "#### the west region has the highest order of 3140"
   ]
  },
  {
   "cell_type": "markdown",
   "id": "76171851-af3c-41b2-8c60-fb3679920d72",
   "metadata": {},
   "source": [
    "### Can you identify the top 5 cities with the highest number of orders"
   ]
  },
  {
   "cell_type": "code",
   "execution_count": 52,
   "id": "ec39969f-1404-4a15-b37a-66eb93eb7546",
   "metadata": {},
   "outputs": [],
   "source": [
    "#top 5 cities by order\n",
    "city_counts = df7.groupby('City').size().reset_index(name='order_count')\n"
   ]
  },
  {
   "cell_type": "code",
   "execution_count": 53,
   "id": "05c3c721-eab3-4265-bda4-9c9cd8831186",
   "metadata": {
    "scrolled": true
   },
   "outputs": [
    {
     "data": {
      "text/html": [
       "<div>\n",
       "<style scoped>\n",
       "    .dataframe tbody tr th:only-of-type {\n",
       "        vertical-align: middle;\n",
       "    }\n",
       "\n",
       "    .dataframe tbody tr th {\n",
       "        vertical-align: top;\n",
       "    }\n",
       "\n",
       "    .dataframe thead th {\n",
       "        text-align: right;\n",
       "    }\n",
       "</style>\n",
       "<table border=\"1\" class=\"dataframe\">\n",
       "  <thead>\n",
       "    <tr style=\"text-align: right;\">\n",
       "      <th></th>\n",
       "      <th>City</th>\n",
       "      <th>order_count</th>\n",
       "    </tr>\n",
       "  </thead>\n",
       "  <tbody>\n",
       "    <tr>\n",
       "      <th>0</th>\n",
       "      <td>Aberdeen</td>\n",
       "      <td>1</td>\n",
       "    </tr>\n",
       "    <tr>\n",
       "      <th>1</th>\n",
       "      <td>Abilene</td>\n",
       "      <td>1</td>\n",
       "    </tr>\n",
       "    <tr>\n",
       "      <th>2</th>\n",
       "      <td>Akron</td>\n",
       "      <td>20</td>\n",
       "    </tr>\n",
       "    <tr>\n",
       "      <th>3</th>\n",
       "      <td>Albuquerque</td>\n",
       "      <td>14</td>\n",
       "    </tr>\n",
       "    <tr>\n",
       "      <th>4</th>\n",
       "      <td>Alexandria</td>\n",
       "      <td>16</td>\n",
       "    </tr>\n",
       "    <tr>\n",
       "      <th>...</th>\n",
       "      <td>...</td>\n",
       "      <td>...</td>\n",
       "    </tr>\n",
       "    <tr>\n",
       "      <th>524</th>\n",
       "      <td>Woonsocket</td>\n",
       "      <td>4</td>\n",
       "    </tr>\n",
       "    <tr>\n",
       "      <th>525</th>\n",
       "      <td>Yonkers</td>\n",
       "      <td>15</td>\n",
       "    </tr>\n",
       "    <tr>\n",
       "      <th>526</th>\n",
       "      <td>York</td>\n",
       "      <td>5</td>\n",
       "    </tr>\n",
       "    <tr>\n",
       "      <th>527</th>\n",
       "      <td>Yucaipa</td>\n",
       "      <td>1</td>\n",
       "    </tr>\n",
       "    <tr>\n",
       "      <th>528</th>\n",
       "      <td>Yuma</td>\n",
       "      <td>4</td>\n",
       "    </tr>\n",
       "  </tbody>\n",
       "</table>\n",
       "<p>529 rows × 2 columns</p>\n",
       "</div>"
      ],
      "text/plain": [
       "            City  order_count\n",
       "0       Aberdeen            1\n",
       "1        Abilene            1\n",
       "2          Akron           20\n",
       "3    Albuquerque           14\n",
       "4     Alexandria           16\n",
       "..           ...          ...\n",
       "524   Woonsocket            4\n",
       "525      Yonkers           15\n",
       "526         York            5\n",
       "527      Yucaipa            1\n",
       "528         Yuma            4\n",
       "\n",
       "[529 rows x 2 columns]"
      ]
     },
     "execution_count": 53,
     "metadata": {},
     "output_type": "execute_result"
    }
   ],
   "source": [
    "city_counts"
   ]
  },
  {
   "cell_type": "code",
   "execution_count": 54,
   "id": "1d35a8a0-8f14-4668-8787-a69e5543062c",
   "metadata": {},
   "outputs": [],
   "source": [
    "top_cities = city_counts.nlargest(5, 'order_count')\n"
   ]
  },
  {
   "cell_type": "code",
   "execution_count": 55,
   "id": "f5b6859e-a12b-4e0c-b4eb-16ae89d5e2c5",
   "metadata": {},
   "outputs": [
    {
     "data": {
      "text/html": [
       "<div>\n",
       "<style scoped>\n",
       "    .dataframe tbody tr th:only-of-type {\n",
       "        vertical-align: middle;\n",
       "    }\n",
       "\n",
       "    .dataframe tbody tr th {\n",
       "        vertical-align: top;\n",
       "    }\n",
       "\n",
       "    .dataframe thead th {\n",
       "        text-align: right;\n",
       "    }\n",
       "</style>\n",
       "<table border=\"1\" class=\"dataframe\">\n",
       "  <thead>\n",
       "    <tr style=\"text-align: right;\">\n",
       "      <th></th>\n",
       "      <th>City</th>\n",
       "      <th>order_count</th>\n",
       "    </tr>\n",
       "  </thead>\n",
       "  <tbody>\n",
       "    <tr>\n",
       "      <th>327</th>\n",
       "      <td>New York City</td>\n",
       "      <td>891</td>\n",
       "    </tr>\n",
       "    <tr>\n",
       "      <th>265</th>\n",
       "      <td>Los Angeles</td>\n",
       "      <td>728</td>\n",
       "    </tr>\n",
       "    <tr>\n",
       "      <th>372</th>\n",
       "      <td>Philadelphia</td>\n",
       "      <td>532</td>\n",
       "    </tr>\n",
       "    <tr>\n",
       "      <th>436</th>\n",
       "      <td>San Francisco</td>\n",
       "      <td>500</td>\n",
       "    </tr>\n",
       "    <tr>\n",
       "      <th>450</th>\n",
       "      <td>Seattle</td>\n",
       "      <td>426</td>\n",
       "    </tr>\n",
       "  </tbody>\n",
       "</table>\n",
       "</div>"
      ],
      "text/plain": [
       "              City  order_count\n",
       "327  New York City          891\n",
       "265    Los Angeles          728\n",
       "372   Philadelphia          532\n",
       "436  San Francisco          500\n",
       "450        Seattle          426"
      ]
     },
     "execution_count": 55,
     "metadata": {},
     "output_type": "execute_result"
    }
   ],
   "source": [
    "top_cities"
   ]
  },
  {
   "cell_type": "code",
   "execution_count": 56,
   "id": "f6fdf190-0cf7-43cc-a2a3-94fae5111d63",
   "metadata": {},
   "outputs": [
    {
     "data": {
      "text/plain": [
       "<Axes: xlabel='City', ylabel='order_count'>"
      ]
     },
     "execution_count": 56,
     "metadata": {},
     "output_type": "execute_result"
    },
    {
     "data": {
      "image/png": "[encoded data removed]",
      "text/plain": [
       "<Figure size 640x480 with 1 Axes>"
      ]
     },
     "metadata": {},
     "output_type": "display_data"
    }
   ],
   "source": [
    "sns.barplot(x='City', y='order_count', data= top_cities, hue = 'City')"
   ]
  },
  {
   "cell_type": "markdown",
   "id": "25e9a48c-58db-4136-9799-c87ad82cd0f2",
   "metadata": {},
   "source": [
    "#### new york city has the highest order of 891"
   ]
  },
  {
   "cell_type": "markdown",
   "id": "592e1e4d-fcec-43ce-8eca-5bd2783021e6",
   "metadata": {},
   "source": [
    "## Product Categories"
   ]
  },
  {
   "cell_type": "markdown",
   "id": "564d178a-97de-4f0b-8e55-e795133b676a",
   "metadata": {},
   "source": [
    "### How many unique product categories are there?\n"
   ]
  },
  {
   "cell_type": "code",
   "execution_count": 60,
   "id": "36a5d9c0-e2bc-4dd0-903b-a87341b11005",
   "metadata": {},
   "outputs": [
    {
     "data": {
      "text/plain": [
       "array(['Furniture', 'Office Supplies', 'Technology'], dtype=object)"
      ]
     },
     "execution_count": 60,
     "metadata": {},
     "output_type": "execute_result"
    }
   ],
   "source": [
    "#product categories\n",
    "\n",
    "df7['Category'].unique()"
   ]
  },
  {
   "cell_type": "code",
   "execution_count": 61,
   "id": "e9273283-8fa2-49cc-b73e-086b716a1fec",
   "metadata": {},
   "outputs": [
    {
     "data": {
      "text/plain": [
       "3"
      ]
     },
     "execution_count": 61,
     "metadata": {},
     "output_type": "execute_result"
    }
   ],
   "source": [
    "#listing out the unique product categories\n",
    "df7['Category'].nunique()"
   ]
  },
  {
   "cell_type": "markdown",
   "id": "54a1888c-e9a3-4294-abb7-91fa2c180083",
   "metadata": {},
   "source": [
    "#### there are three unique product categories which are: Furniture, Office Supplies and Technology"
   ]
  },
  {
   "cell_type": "markdown",
   "id": "d571dc67-50d3-4718-b6d8-17a5de024bed",
   "metadata": {},
   "source": [
    "### What are the most popular product categories based on sales"
   ]
  },
  {
   "cell_type": "code",
   "execution_count": 64,
   "id": "6ec36283-97b2-48ba-9c99-65d268cd3916",
   "metadata": {},
   "outputs": [],
   "source": [
    "popular_products = df7.groupby('Category').size().reset_index(name='Ordercount')"
   ]
  },
  {
   "cell_type": "code",
   "execution_count": 65,
   "id": "557802ae-d955-4e73-828d-b6483a56a360",
   "metadata": {},
   "outputs": [
    {
     "data": {
      "text/html": [
       "<div>\n",
       "<style scoped>\n",
       "    .dataframe tbody tr th:only-of-type {\n",
       "        vertical-align: middle;\n",
       "    }\n",
       "\n",
       "    .dataframe tbody tr th {\n",
       "        vertical-align: top;\n",
       "    }\n",
       "\n",
       "    .dataframe thead th {\n",
       "        text-align: right;\n",
       "    }\n",
       "</style>\n",
       "<table border=\"1\" class=\"dataframe\">\n",
       "  <thead>\n",
       "    <tr style=\"text-align: right;\">\n",
       "      <th></th>\n",
       "      <th>Category</th>\n",
       "      <th>Ordercount</th>\n",
       "    </tr>\n",
       "  </thead>\n",
       "  <tbody>\n",
       "    <tr>\n",
       "      <th>0</th>\n",
       "      <td>Furniture</td>\n",
       "      <td>2078</td>\n",
       "    </tr>\n",
       "    <tr>\n",
       "      <th>1</th>\n",
       "      <td>Office Supplies</td>\n",
       "      <td>5909</td>\n",
       "    </tr>\n",
       "    <tr>\n",
       "      <th>2</th>\n",
       "      <td>Technology</td>\n",
       "      <td>1813</td>\n",
       "    </tr>\n",
       "  </tbody>\n",
       "</table>\n",
       "</div>"
      ],
      "text/plain": [
       "          Category  Ordercount\n",
       "0        Furniture        2078\n",
       "1  Office Supplies        5909\n",
       "2       Technology        1813"
      ]
     },
     "execution_count": 65,
     "metadata": {},
     "output_type": "execute_result"
    }
   ],
   "source": [
    "popular_products"
   ]
  },
  {
   "cell_type": "code",
   "execution_count": 66,
   "id": "8a08eded-7911-451a-a80d-e22f3ecfc509",
   "metadata": {},
   "outputs": [],
   "source": [
    "top_products = popular_products.nlargest(3, 'Ordercount')\n"
   ]
  },
  {
   "cell_type": "code",
   "execution_count": 67,
   "id": "b97beb11-a638-452a-b2b0-c0e8d81b3aa9",
   "metadata": {},
   "outputs": [
    {
     "data": {
      "text/html": [
       "<div>\n",
       "<style scoped>\n",
       "    .dataframe tbody tr th:only-of-type {\n",
       "        vertical-align: middle;\n",
       "    }\n",
       "\n",
       "    .dataframe tbody tr th {\n",
       "        vertical-align: top;\n",
       "    }\n",
       "\n",
       "    .dataframe thead th {\n",
       "        text-align: right;\n",
       "    }\n",
       "</style>\n",
       "<table border=\"1\" class=\"dataframe\">\n",
       "  <thead>\n",
       "    <tr style=\"text-align: right;\">\n",
       "      <th></th>\n",
       "      <th>Category</th>\n",
       "      <th>Ordercount</th>\n",
       "    </tr>\n",
       "  </thead>\n",
       "  <tbody>\n",
       "    <tr>\n",
       "      <th>1</th>\n",
       "      <td>Office Supplies</td>\n",
       "      <td>5909</td>\n",
       "    </tr>\n",
       "    <tr>\n",
       "      <th>0</th>\n",
       "      <td>Furniture</td>\n",
       "      <td>2078</td>\n",
       "    </tr>\n",
       "    <tr>\n",
       "      <th>2</th>\n",
       "      <td>Technology</td>\n",
       "      <td>1813</td>\n",
       "    </tr>\n",
       "  </tbody>\n",
       "</table>\n",
       "</div>"
      ],
      "text/plain": [
       "          Category  Ordercount\n",
       "1  Office Supplies        5909\n",
       "0        Furniture        2078\n",
       "2       Technology        1813"
      ]
     },
     "execution_count": 67,
     "metadata": {},
     "output_type": "execute_result"
    }
   ],
   "source": [
    "top_products"
   ]
  },
  {
   "cell_type": "code",
   "execution_count": 68,
   "id": "6b170c06-439b-4c59-8d22-36012f2a2f8f",
   "metadata": {},
   "outputs": [
    {
     "data": {
      "text/plain": [
       "<Axes: xlabel='Category', ylabel='Ordercount'>"
      ]
     },
     "execution_count": 68,
     "metadata": {},
     "output_type": "execute_result"
    },
    {
     "data": {
      "image/png": "[encoded data removed]",
      "text/plain": [
       "<Figure size 640x480 with 1 Axes>"
      ]
     },
     "metadata": {},
     "output_type": "display_data"
    }
   ],
   "source": [
    "sns.barplot(x='Category', y='Ordercount', data=top_products , hue = 'Category')"
   ]
  },
  {
   "cell_type": "markdown",
   "id": "a4a95210-8b18-4599-a8f5-abc6923abc4f",
   "metadata": {},
   "source": [
    "#### the most popular product category is office supplies with order count of 5909"
   ]
  },
  {
   "cell_type": "markdown",
   "id": "4e52e406-f14e-4f20-99db-ab6cd292307b",
   "metadata": {},
   "source": [
    "### Can you identify the top 5 selling products?"
   ]
  },
  {
   "cell_type": "code",
   "execution_count": 71,
   "id": "400e46ac-6873-4968-bdbf-b0b5c3ab4ae2",
   "metadata": {},
   "outputs": [],
   "source": [
    "topselling_products = df7.groupby('Product Name').size().reset_index(name='order')"
   ]
  },
  {
   "cell_type": "code",
   "execution_count": 72,
   "id": "ac634c1f-c4d8-445c-b954-c02e05ef3343",
   "metadata": {},
   "outputs": [
    {
     "data": {
      "text/html": [
       "<div>\n",
       "<style scoped>\n",
       "    .dataframe tbody tr th:only-of-type {\n",
       "        vertical-align: middle;\n",
       "    }\n",
       "\n",
       "    .dataframe tbody tr th {\n",
       "        vertical-align: top;\n",
       "    }\n",
       "\n",
       "    .dataframe thead th {\n",
       "        text-align: right;\n",
       "    }\n",
       "</style>\n",
       "<table border=\"1\" class=\"dataframe\">\n",
       "  <thead>\n",
       "    <tr style=\"text-align: right;\">\n",
       "      <th></th>\n",
       "      <th>Product Name</th>\n",
       "      <th>order</th>\n",
       "    </tr>\n",
       "  </thead>\n",
       "  <tbody>\n",
       "    <tr>\n",
       "      <th>0</th>\n",
       "      <td>\"While you Were Out\" Message Book, One Form pe...</td>\n",
       "      <td>3</td>\n",
       "    </tr>\n",
       "    <tr>\n",
       "      <th>1</th>\n",
       "      <td>#10 Gummed Flap White Envelopes, 100/Box</td>\n",
       "      <td>4</td>\n",
       "    </tr>\n",
       "    <tr>\n",
       "      <th>2</th>\n",
       "      <td>#10 Self-Seal White Envelopes</td>\n",
       "      <td>4</td>\n",
       "    </tr>\n",
       "    <tr>\n",
       "      <th>3</th>\n",
       "      <td>#10 White Business Envelopes,4 1/8 x 9 1/2</td>\n",
       "      <td>6</td>\n",
       "    </tr>\n",
       "    <tr>\n",
       "      <th>4</th>\n",
       "      <td>#10- 4 1/8\" x 9 1/2\" Recycled Envelopes</td>\n",
       "      <td>10</td>\n",
       "    </tr>\n",
       "    <tr>\n",
       "      <th>...</th>\n",
       "      <td>...</td>\n",
       "      <td>...</td>\n",
       "    </tr>\n",
       "    <tr>\n",
       "      <th>1844</th>\n",
       "      <td>iKross Bluetooth Portable Keyboard + Cell Phon...</td>\n",
       "      <td>5</td>\n",
       "    </tr>\n",
       "    <tr>\n",
       "      <th>1845</th>\n",
       "      <td>iOttie HLCRIO102 Car Mount</td>\n",
       "      <td>5</td>\n",
       "    </tr>\n",
       "    <tr>\n",
       "      <th>1846</th>\n",
       "      <td>iOttie XL Car Mount</td>\n",
       "      <td>2</td>\n",
       "    </tr>\n",
       "    <tr>\n",
       "      <th>1847</th>\n",
       "      <td>invisibleSHIELD by ZAGG Smudge-Free Screen Pro...</td>\n",
       "      <td>7</td>\n",
       "    </tr>\n",
       "    <tr>\n",
       "      <th>1848</th>\n",
       "      <td>netTALK DUO VoIP Telephone Service</td>\n",
       "      <td>7</td>\n",
       "    </tr>\n",
       "  </tbody>\n",
       "</table>\n",
       "<p>1849 rows × 2 columns</p>\n",
       "</div>"
      ],
      "text/plain": [
       "                                           Product Name  order\n",
       "0     \"While you Were Out\" Message Book, One Form pe...      3\n",
       "1              #10 Gummed Flap White Envelopes, 100/Box      4\n",
       "2                         #10 Self-Seal White Envelopes      4\n",
       "3            #10 White Business Envelopes,4 1/8 x 9 1/2      6\n",
       "4               #10- 4 1/8\" x 9 1/2\" Recycled Envelopes     10\n",
       "...                                                 ...    ...\n",
       "1844  iKross Bluetooth Portable Keyboard + Cell Phon...      5\n",
       "1845                         iOttie HLCRIO102 Car Mount      5\n",
       "1846                                iOttie XL Car Mount      2\n",
       "1847  invisibleSHIELD by ZAGG Smudge-Free Screen Pro...      7\n",
       "1848                 netTALK DUO VoIP Telephone Service      7\n",
       "\n",
       "[1849 rows x 2 columns]"
      ]
     },
     "execution_count": 72,
     "metadata": {},
     "output_type": "execute_result"
    }
   ],
   "source": [
    "topselling_products"
   ]
  },
  {
   "cell_type": "code",
   "execution_count": 73,
   "id": "b9640d30-80a8-4ddb-9201-8c5eca65ae83",
   "metadata": {},
   "outputs": [],
   "source": [
    "top5_products = topselling_products.nlargest(5, 'order')\n"
   ]
  },
  {
   "cell_type": "code",
   "execution_count": 74,
   "id": "9ce31719-b1da-43a6-9120-b9d89ac29424",
   "metadata": {},
   "outputs": [
    {
     "data": {
      "text/html": [
       "<div>\n",
       "<style scoped>\n",
       "    .dataframe tbody tr th:only-of-type {\n",
       "        vertical-align: middle;\n",
       "    }\n",
       "\n",
       "    .dataframe tbody tr th {\n",
       "        vertical-align: top;\n",
       "    }\n",
       "\n",
       "    .dataframe thead th {\n",
       "        text-align: right;\n",
       "    }\n",
       "</style>\n",
       "<table border=\"1\" class=\"dataframe\">\n",
       "  <thead>\n",
       "    <tr style=\"text-align: right;\">\n",
       "      <th></th>\n",
       "      <th>Product Name</th>\n",
       "      <th>order</th>\n",
       "    </tr>\n",
       "  </thead>\n",
       "  <tbody>\n",
       "    <tr>\n",
       "      <th>1492</th>\n",
       "      <td>Staple envelope</td>\n",
       "      <td>47</td>\n",
       "    </tr>\n",
       "    <tr>\n",
       "      <th>1498</th>\n",
       "      <td>Staples</td>\n",
       "      <td>46</td>\n",
       "    </tr>\n",
       "    <tr>\n",
       "      <th>537</th>\n",
       "      <td>Easy-staple paper</td>\n",
       "      <td>44</td>\n",
       "    </tr>\n",
       "    <tr>\n",
       "      <th>259</th>\n",
       "      <td>Avery Non-Stick Binders</td>\n",
       "      <td>20</td>\n",
       "    </tr>\n",
       "    <tr>\n",
       "      <th>1495</th>\n",
       "      <td>Staple remover</td>\n",
       "      <td>18</td>\n",
       "    </tr>\n",
       "  </tbody>\n",
       "</table>\n",
       "</div>"
      ],
      "text/plain": [
       "                 Product Name  order\n",
       "1492          Staple envelope     47\n",
       "1498                  Staples     46\n",
       "537         Easy-staple paper     44\n",
       "259   Avery Non-Stick Binders     20\n",
       "1495           Staple remover     18"
      ]
     },
     "execution_count": 74,
     "metadata": {},
     "output_type": "execute_result"
    }
   ],
   "source": [
    "top5_products"
   ]
  },
  {
   "cell_type": "code",
   "execution_count": 75,
   "id": "43581e29-fceb-446e-82dd-2771be3c3832",
   "metadata": {},
   "outputs": [
    {
     "data": {
      "image/png": "[encoded data removed]",
      "text/plain": [
       "<Figure size 640x480 with 1 Axes>"
      ]
     },
     "metadata": {},
     "output_type": "display_data"
    }
   ],
   "source": [
    "sns.barplot(x='Product Name', y='order', data= top5_products)\n",
    "plt.tick_params(axis='x', rotation=90)"
   ]
  },
  {
   "cell_type": "markdown",
   "id": "ef160f57-c56e-46a3-81b4-9382e7e52257",
   "metadata": {},
   "source": [
    "#### the top 5 products are: Staple envelope, Staples, Easy-staple paper, Avery Non-Stick Binders, Staple remover"
   ]
  },
  {
   "cell_type": "markdown",
   "id": "d1f7cd98-6cda-49c9-b48f-0fb985b62a28",
   "metadata": {},
   "source": [
    "### Customer Segmentation"
   ]
  },
  {
   "cell_type": "markdown",
   "id": "b33441c2-6f29-4929-b4d4-29822aa6a8a3",
   "metadata": {},
   "source": [
    "###  How are customers segmented based on the Segment column"
   ]
  },
  {
   "cell_type": "code",
   "execution_count": 79,
   "id": "a530edab-66be-4f12-8193-065bc188417d",
   "metadata": {},
   "outputs": [],
   "source": [
    "customer_segmentation = df7.groupby('Segment').size().reset_index(name='count of customers')"
   ]
  },
  {
   "cell_type": "code",
   "execution_count": 80,
   "id": "0745642b-3066-4027-a536-c7348ef5f101",
   "metadata": {},
   "outputs": [
    {
     "data": {
      "text/html": [
       "<div>\n",
       "<style scoped>\n",
       "    .dataframe tbody tr th:only-of-type {\n",
       "        vertical-align: middle;\n",
       "    }\n",
       "\n",
       "    .dataframe tbody tr th {\n",
       "        vertical-align: top;\n",
       "    }\n",
       "\n",
       "    .dataframe thead th {\n",
       "        text-align: right;\n",
       "    }\n",
       "</style>\n",
       "<table border=\"1\" class=\"dataframe\">\n",
       "  <thead>\n",
       "    <tr style=\"text-align: right;\">\n",
       "      <th></th>\n",
       "      <th>Segment</th>\n",
       "      <th>count of customers</th>\n",
       "    </tr>\n",
       "  </thead>\n",
       "  <tbody>\n",
       "    <tr>\n",
       "      <th>0</th>\n",
       "      <td>Consumer</td>\n",
       "      <td>5101</td>\n",
       "    </tr>\n",
       "    <tr>\n",
       "      <th>1</th>\n",
       "      <td>Corporate</td>\n",
       "      <td>2953</td>\n",
       "    </tr>\n",
       "    <tr>\n",
       "      <th>2</th>\n",
       "      <td>Home Office</td>\n",
       "      <td>1746</td>\n",
       "    </tr>\n",
       "  </tbody>\n",
       "</table>\n",
       "</div>"
      ],
      "text/plain": [
       "       Segment  count of customers\n",
       "0     Consumer                5101\n",
       "1    Corporate                2953\n",
       "2  Home Office                1746"
      ]
     },
     "execution_count": 80,
     "metadata": {},
     "output_type": "execute_result"
    }
   ],
   "source": [
    "customer_segmentation"
   ]
  },
  {
   "cell_type": "markdown",
   "id": "eb4a08ab-5b33-4004-a9f0-2963322cf730",
   "metadata": {},
   "source": [
    "#### customers are grouped into Consumer, Corporate and Home office based on Segment and the count of customers are: 5101, 2953 and 1746"
   ]
  },
  {
   "cell_type": "markdown",
   "id": "f746d3d2-e6ec-4cb3-9f3b-6982c76f3760",
   "metadata": {},
   "source": [
    "### What is the average order value for each customer segment?"
   ]
  },
  {
   "cell_type": "code",
   "execution_count": 83,
   "id": "fa7891e8-51f3-4072-baea-64fbf98c649a",
   "metadata": {},
   "outputs": [],
   "source": [
    "#average order value per segment\n",
    "aov_by_segment = df7.groupby('Segment')['Sales'].mean().reset_index(name = 'average order value')\n"
   ]
  },
  {
   "cell_type": "code",
   "execution_count": 84,
   "id": "f9886a7b-da37-43de-bfcf-16b851d5e4c2",
   "metadata": {},
   "outputs": [
    {
     "data": {
      "text/html": [
       "<div>\n",
       "<style scoped>\n",
       "    .dataframe tbody tr th:only-of-type {\n",
       "        vertical-align: middle;\n",
       "    }\n",
       "\n",
       "    .dataframe tbody tr th {\n",
       "        vertical-align: top;\n",
       "    }\n",
       "\n",
       "    .dataframe thead th {\n",
       "        text-align: right;\n",
       "    }\n",
       "</style>\n",
       "<table border=\"1\" class=\"dataframe\">\n",
       "  <thead>\n",
       "    <tr style=\"text-align: right;\">\n",
       "      <th></th>\n",
       "      <th>Segment</th>\n",
       "      <th>average order value</th>\n",
       "    </tr>\n",
       "  </thead>\n",
       "  <tbody>\n",
       "    <tr>\n",
       "      <th>0</th>\n",
       "      <td>Consumer</td>\n",
       "      <td>225.065777</td>\n",
       "    </tr>\n",
       "    <tr>\n",
       "      <th>1</th>\n",
       "      <td>Corporate</td>\n",
       "      <td>233.150720</td>\n",
       "    </tr>\n",
       "    <tr>\n",
       "      <th>2</th>\n",
       "      <td>Home Office</td>\n",
       "      <td>243.403309</td>\n",
       "    </tr>\n",
       "  </tbody>\n",
       "</table>\n",
       "</div>"
      ],
      "text/plain": [
       "       Segment  average order value\n",
       "0     Consumer           225.065777\n",
       "1    Corporate           233.150720\n",
       "2  Home Office           243.403309"
      ]
     },
     "execution_count": 84,
     "metadata": {},
     "output_type": "execute_result"
    }
   ],
   "source": [
    "aov_by_segment"
   ]
  },
  {
   "cell_type": "markdown",
   "id": "044d59c9-b691-4344-9fd6-74b063c6ad3c",
   "metadata": {},
   "source": [
    "#### consumer has aov of 225.o6, corporate has aov of 233.15 and home office has aov of 243.40"
   ]
  },
  {
   "cell_type": "code",
   "execution_count": 86,
   "id": "89cfaa95-97a2-4c6b-8ff6-d4ec8a618079",
   "metadata": {},
   "outputs": [],
   "source": [
    "\n",
    "average_order_value = aov_by_segment['average order value']"
   ]
  },
  {
   "cell_type": "code",
   "execution_count": 87,
   "id": "bb8bde13-859e-4946-bddf-23e33c6ef097",
   "metadata": {},
   "outputs": [
    {
     "data": {
      "text/plain": [
       "0    225.065777\n",
       "1    233.150720\n",
       "2    243.403309\n",
       "Name: average order value, dtype: float64"
      ]
     },
     "execution_count": 87,
     "metadata": {},
     "output_type": "execute_result"
    }
   ],
   "source": [
    "average_order_value"
   ]
  },
  {
   "cell_type": "code",
   "execution_count": 88,
   "id": "72fd8963-c992-4b79-9da2-789ce3a0d725",
   "metadata": {},
   "outputs": [],
   "source": [
    "Segments = aov_by_segment['Segment']"
   ]
  },
  {
   "cell_type": "code",
   "execution_count": 89,
   "id": "d7a6fb94-4b1a-4643-aee4-039b6857d48b",
   "metadata": {},
   "outputs": [
    {
     "data": {
      "text/plain": [
       "0       Consumer\n",
       "1      Corporate\n",
       "2    Home Office\n",
       "Name: Segment, dtype: object"
      ]
     },
     "execution_count": 89,
     "metadata": {},
     "output_type": "execute_result"
    }
   ],
   "source": [
    "Segments"
   ]
  },
  {
   "cell_type": "code",
   "execution_count": 90,
   "id": "3fde9399-348f-46ea-b91f-4c91088385f1",
   "metadata": {},
   "outputs": [
    {
     "data": {
      "text/plain": [
       "Text(0.5, 1.0, 'Average Order Value by Segment')"
      ]
     },
     "execution_count": 90,
     "metadata": {},
     "output_type": "execute_result"
    },
    {
     "data": {
      "image/png": "[encoded data removed]",
      "text/plain": [
       "<Figure size 500x500 with 1 Axes>"
      ]
     },
     "metadata": {},
     "output_type": "display_data"
    }
   ],
   "source": [
    "plt.figure(figsize=(5, 5))\n",
    "sns.set(style=\"whitegrid\")\n",
    "plt.pie(average_order_value, \n",
    "        labels=Segments, \n",
    "        autopct='%1.1f%%', \n",
    "        textprops={'fontsize': 14})\n",
    "plt.title('Average Order Value by Segment', \n",
    "          fontsize=16, \n",
    "          fontweight='bold', \n",
    "          color='blue')\n"
   ]
  },
  {
   "cell_type": "markdown",
   "id": "1fa13772-fbaa-433c-b7f2-672256cc80b5",
   "metadata": {},
   "source": [
    "### Shipping Insights"
   ]
  },
  {
   "cell_type": "markdown",
   "id": "ed473bb6-0df9-4f31-9667-d9c7a4139db5",
   "metadata": {},
   "source": [
    "### What are the different shipping modes available"
   ]
  },
  {
   "cell_type": "code",
   "execution_count": 93,
   "id": "0e51d9d4-5efd-47f4-b407-d5cc99815d9e",
   "metadata": {},
   "outputs": [
    {
     "data": {
      "text/plain": [
       "ID\n",
       "1         Second Class\n",
       "2         Second Class\n",
       "3         Second Class\n",
       "4       Standard Class\n",
       "5       Standard Class\n",
       "             ...      \n",
       "9796    Standard Class\n",
       "9797    Standard Class\n",
       "9798    Standard Class\n",
       "9799    Standard Class\n",
       "9800    Standard Class\n",
       "Name: Ship Mode, Length: 9800, dtype: object"
      ]
     },
     "execution_count": 93,
     "metadata": {},
     "output_type": "execute_result"
    }
   ],
   "source": [
    "df7['Ship Mode']"
   ]
  },
  {
   "cell_type": "code",
   "execution_count": 94,
   "id": "69194f76-c851-4fe4-ad64-58b4513d6cc2",
   "metadata": {},
   "outputs": [
    {
     "data": {
      "text/plain": [
       "array(['Second Class', 'Standard Class', 'First Class', 'Same Day'],\n",
       "      dtype=object)"
      ]
     },
     "execution_count": 94,
     "metadata": {},
     "output_type": "execute_result"
    }
   ],
   "source": [
    "df7['Ship Mode'].unique()"
   ]
  },
  {
   "cell_type": "markdown",
   "id": "3dd11064-10ae-4174-9a10-2da357b91837",
   "metadata": {},
   "source": [
    "#### there are 4 different shipping mode available: second class, standard class, first class and same day"
   ]
  },
  {
   "cell_type": "markdown",
   "id": "ecb8d212-fca8-4a04-b0d6-f8dae82c0bd1",
   "metadata": {},
   "source": [
    "### How does the shipping mode relate to the order date and delivery date"
   ]
  },
  {
   "cell_type": "code",
   "execution_count": 97,
   "id": "8c0891f1-9af3-450a-9b1b-4227c3a9b2e3",
   "metadata": {},
   "outputs": [],
   "source": [
    "# Calculate the time difference between order date and delivery date\n",
    "df7['delivery time'] = (df7['Ship Date'] - df7['Order Date']).dt.days"
   ]
  },
  {
   "cell_type": "code",
   "execution_count": 98,
   "id": "64e324fa-a4f2-4e4b-8416-804d37d57153",
   "metadata": {},
   "outputs": [
    {
     "data": {
      "text/html": [
       "<div>\n",
       "<style scoped>\n",
       "    .dataframe tbody tr th:only-of-type {\n",
       "        vertical-align: middle;\n",
       "    }\n",
       "\n",
       "    .dataframe tbody tr th {\n",
       "        vertical-align: top;\n",
       "    }\n",
       "\n",
       "    .dataframe thead th {\n",
       "        text-align: right;\n",
       "    }\n",
       "</style>\n",
       "<table border=\"1\" class=\"dataframe\">\n",
       "  <thead>\n",
       "    <tr style=\"text-align: right;\">\n",
       "      <th></th>\n",
       "      <th>Ship Mode</th>\n",
       "      <th>delivery time</th>\n",
       "    </tr>\n",
       "  </thead>\n",
       "  <tbody>\n",
       "    <tr>\n",
       "      <th>0</th>\n",
       "      <td>First Class</td>\n",
       "      <td>2.179214</td>\n",
       "    </tr>\n",
       "    <tr>\n",
       "      <th>1</th>\n",
       "      <td>Same Day</td>\n",
       "      <td>0.044610</td>\n",
       "    </tr>\n",
       "    <tr>\n",
       "      <th>2</th>\n",
       "      <td>Second Class</td>\n",
       "      <td>3.249211</td>\n",
       "    </tr>\n",
       "    <tr>\n",
       "      <th>3</th>\n",
       "      <td>Standard Class</td>\n",
       "      <td>5.008363</td>\n",
       "    </tr>\n",
       "  </tbody>\n",
       "</table>\n",
       "</div>"
      ],
      "text/plain": [
       "        Ship Mode  delivery time\n",
       "0     First Class       2.179214\n",
       "1        Same Day       0.044610\n",
       "2    Second Class       3.249211\n",
       "3  Standard Class       5.008363"
      ]
     },
     "execution_count": 98,
     "metadata": {},
     "output_type": "execute_result"
    }
   ],
   "source": [
    "# Group by shipping mode and calculate mean delivery time\n",
    "shipping_mode_delivery_time = df7.groupby('Ship Mode')['delivery time'].mean().reset_index()\n",
    "shipping_mode_delivery_time\n"
   ]
  },
  {
   "cell_type": "code",
   "execution_count": 99,
   "id": "99df29e3-94c2-4fb6-b82c-b1e2f51c1eb4",
   "metadata": {},
   "outputs": [
    {
     "data": {
      "image/png": "[encoded data removed]",
      "text/plain": [
       "<Figure size 1000x600 with 1 Axes>"
      ]
     },
     "metadata": {},
     "output_type": "display_data"
    }
   ],
   "source": [
    "# visualise to understand the relationship\n",
    "plt.figure(figsize=(10, 6))\n",
    "#plt.barplot(shipping_mode_delivery_time['Ship Mode'], shipping_mode_delivery_time['delivery time'])\n",
    "sns.barplot(x='Ship Mode', y='delivery time', data=shipping_mode_delivery_time)\n",
    "plt.xlabel('Shipping Mode')\n",
    "plt.ylabel('Average Delivery Time (days)')\n",
    "plt.title('Shipping Mode / Average Delivery Time')\n",
    "plt.show()"
   ]
  },
  {
   "cell_type": "markdown",
   "id": "9e85f604-acba-4003-a13c-443ce6b74e0b",
   "metadata": {},
   "source": [
    "#### the products that are been delivered in the same day has lesser delivery time than products that were delivered using the standard class which took an average of 5 days to be delivered, while that first class and second class took an average of 2 and 3 days respectively to be delivered"
   ]
  },
  {
   "cell_type": "markdown",
   "id": "11020319-88b5-463e-8fd0-5987677926d6",
   "metadata": {},
   "source": [
    "### Are there any patterns in shipping modes based on regions?\n"
   ]
  },
  {
   "cell_type": "code",
   "execution_count": 102,
   "id": "0ef8aeda-b4cd-429f-99e3-4c43a269e5bc",
   "metadata": {},
   "outputs": [
    {
     "data": {
      "text/plain": [
       "<Axes: xlabel='Region', ylabel='count'>"
      ]
     },
     "execution_count": 102,
     "metadata": {},
     "output_type": "execute_result"
    },
    {
     "data": {
      "image/png": "[encoded data removed]",
      "text/plain": [
       "<Figure size 800x600 with 1 Axes>"
      ]
     },
     "metadata": {},
     "output_type": "display_data"
    }
   ],
   "source": [
    "plt.figure(figsize=(8, 6))\n",
    "sns.countplot(x='Region', hue='Ship Mode', data=df7)"
   ]
  },
  {
   "cell_type": "markdown",
   "id": "47968baa-4cd7-43a5-a687-63f5d0a79079",
   "metadata": {},
   "source": [
    "#### standard class has the highest patronage in all the regions"
   ]
  },
  {
   "cell_type": "markdown",
   "id": "c6de616e-cacc-4355-a956-f320355c98dc",
   "metadata": {},
   "source": [
    "### Sales Distribution\n"
   ]
  },
  {
   "cell_type": "markdown",
   "id": "a626a777-4d3e-4fa2-ac10-12f83a95e876",
   "metadata": {},
   "source": [
    "### What is the overall distribution of sales values"
   ]
  },
  {
   "cell_type": "code",
   "execution_count": 106,
   "id": "bce2135b-2b96-44a4-ace2-efa54bb38bc3",
   "metadata": {},
   "outputs": [
    {
     "data": {
      "text/plain": [
       "count     9800.000000\n",
       "mean       230.769059\n",
       "std        626.651875\n",
       "min          0.444000\n",
       "25%         17.248000\n",
       "50%         54.490000\n",
       "75%        210.605000\n",
       "max      22638.480000\n",
       "Name: Sales, dtype: float64"
      ]
     },
     "execution_count": 106,
     "metadata": {},
     "output_type": "execute_result"
    }
   ],
   "source": [
    "#distribution of sales value\n",
    "df7['Sales'].describe()"
   ]
  },
  {
   "cell_type": "markdown",
   "id": "4106ed86-8a2c-4e40-862a-d8e7fd883aaf",
   "metadata": {},
   "source": [
    "#### the mean sale is 230.76, the min and max sales are: 0.44 and 22638"
   ]
  },
  {
   "cell_type": "code",
   "execution_count": 108,
   "id": "6d59a0a6-a417-425e-877b-06ea42bbb9c3",
   "metadata": {},
   "outputs": [
    {
     "data": {
      "image/png": "[encoded data removed]",
      "text/plain": [
       "<Figure size 800x600 with 1 Axes>"
      ]
     },
     "metadata": {},
     "output_type": "display_data"
    }
   ],
   "source": [
    "plt.figure(figsize=(8, 6))\n",
    "sns.histplot(df7['Sales'])\n",
    "plt.title('Distribution of Sales Values')\n",
    "plt.xlabel('Sales')\n",
    "plt.ylabel('Frequency')\n",
    "plt.show()"
   ]
  },
  {
   "cell_type": "markdown",
   "id": "755faa27-318c-45f4-b2ce-45707389ef45",
   "metadata": {},
   "source": [
    "#### Are there any outliers in the sales data\n"
   ]
  },
  {
   "cell_type": "code",
   "execution_count": 110,
   "id": "0ffed45d-b5ea-4ced-9b13-1ed34b4375b3",
   "metadata": {},
   "outputs": [
    {
     "data": {
      "image/png": "[encoded data removed]",
      "text/plain": [
       "<Figure size 800x600 with 1 Axes>"
      ]
     },
     "metadata": {},
     "output_type": "display_data"
    }
   ],
   "source": [
    "#looking for outliers in the sales data\n",
    "plt.figure(figsize=(8, 6))\n",
    "sns.boxplot(df7['Sales'])\n",
    "plt.title('Sales Value Distribution')\n",
    "plt.show()\n"
   ]
  },
  {
   "cell_type": "markdown",
   "id": "1c131218-ce60-4d95-a8d7-7c1c9a12185d",
   "metadata": {},
   "source": [
    "#### yes there are outliers in the sales data"
   ]
  },
  {
   "cell_type": "markdown",
   "id": "1b9ea7e3-08c1-4af8-808c-434d6bd580a1",
   "metadata": {},
   "source": [
    "### Can you visualize the distribution of sales for each product category"
   ]
  },
  {
   "cell_type": "code",
   "execution_count": 113,
   "id": "2d43abc5-b846-4351-a2bc-24b3611c89c7",
   "metadata": {},
   "outputs": [
    {
     "data": {
      "text/plain": [
       "<Axes: xlabel='Category', ylabel='Sales'>"
      ]
     },
     "execution_count": 113,
     "metadata": {},
     "output_type": "execute_result"
    },
    {
     "data": {
      "image/png": "[encoded data removed]",
      "text/plain": [
       "<Figure size 640x480 with 1 Axes>"
      ]
     },
     "metadata": {},
     "output_type": "display_data"
    }
   ],
   "source": [
    "#distribution of sales for each product category\n",
    "sns.barplot(x='Category', y='Sales', data= df7, hue = 'Category')"
   ]
  },
  {
   "cell_type": "markdown",
   "id": "6fda34b1-13cd-4f81-a10b-eca509e0a3ac",
   "metadata": {},
   "source": [
    "#### technology has the highest sales by product category"
   ]
  },
  {
   "cell_type": "markdown",
   "id": "a9dff865-6d61-4cf3-8433-72a06f4e1b7e",
   "metadata": {},
   "source": [
    "### Profit Analysis"
   ]
  },
  {
   "cell_type": "markdown",
   "id": "20e705a6-05a0-441b-8e94-b5eb33b7e8a4",
   "metadata": {},
   "source": [
    "#### There are no data to perform profit analysis"
   ]
  },
  {
   "cell_type": "markdown",
   "id": "cfac59f7-4471-4b55-9acd-36580a289c23",
   "metadata": {},
   "source": [
    "## Project Deliverables"
   ]
  },
  {
   "cell_type": "markdown",
   "id": "1b6b2cf4-4c88-4b2c-b75f-35f6d03a2cbc",
   "metadata": {},
   "source": [
    "## summary of key finding"
   ]
  },
  {
   "cell_type": "markdown",
   "id": "91ea05df-2dce-4973-aef8-8e9a2cc5bf88",
   "metadata": {},
   "source": [
    "#### the count od sales is 9800.000000, mean sale is 230.769059, the minimum sale is 0.444000  and the maximum sale is 22638.480000\n",
    "#### there are 4922 unique orders\n",
    "#### only one country is included in the dataset and it is united states\n",
    "#### the west region has the highest order of 3140\n",
    "#### new york city has the highest order of 891\n",
    "#### there are three unique product categories which are: Furniture, Office Supplies and Technology\n",
    "#### the most popular product category is office supplies with order count of 5909\n",
    "#### there are 1849 unique product name\n",
    "#### the top product mostly ordered is Staple envelope with an order of 47\n",
    "#### the consumer is the highest customer segment with a total customer of 5101\n",
    "#### home office has the highest average order value of 243.4\n",
    "#### there are 4 different shipping mode available: second class, standard class, first class and same day\n",
    "#### the average sales is 230.8 and most of the sales come from the south and east region\n",
    "#### technology has the highest sales by product category\n",
    "#### standard class has the highest patronage in all the regions\n",
    "\n",
    "\n",
    "\n",
    "\n"
   ]
  },
  {
   "cell_type": "markdown",
   "id": "1c294ee2-f9f5-49c0-ad13-60dbee34eb37",
   "metadata": {},
   "source": [
    "# Any actionable recommendations based on the analysis"
   ]
  },
  {
   "cell_type": "markdown",
   "id": "a41c3cdd-bcfb-4f8b-a12d-84d249904bdd",
   "metadata": {},
   "source": [
    "#### 1. since more sales come from Technology, more focus should be on it"
   ]
  },
  {
   "cell_type": "markdown",
   "id": "ba296e3b-79c0-4d5c-a660-6df0b3e905f6",
   "metadata": {},
   "source": [
    "#### 2. standard class should be used in all the regions"
   ]
  },
  {
   "cell_type": "markdown",
   "id": "3aa9989b-19bd-4123-94c0-aea213901b29",
   "metadata": {},
   "source": [
    "#### 3. more focus should be on office supllies"
   ]
  },
  {
   "cell_type": "markdown",
   "id": "5af98941-9741-4fbb-a96a-63dc72db0edd",
   "metadata": {},
   "source": [
    "#### 4. more focus should also be on New York"
   ]
  },
  {
   "cell_type": "markdown",
   "id": "eb339903-102c-4461-ab9b-b254b50df472",
   "metadata": {},
   "source": [
    "#### 5. more focus should also be on the West region"
   ]
  },
  {
   "cell_type": "markdown",
   "id": "ae87d0cf-7919-4699-af3e-c0089f45226c",
   "metadata": {},
   "source": [
    "#### 6. For customer satisfaction, we recommend that products should be delivered on the first day or using either the first or the second class shipping more which took 2 to 3 days instead of using the standard class shipping mode which too 5 days to be delivered, and it was used for all the regions which can lead to customer dissatisfaction. This will encourage the customer to order more products where the delivery time is optimal."
   ]
  },
  {
   "cell_type": "code",
   "execution_count": null,
   "id": "38a0cdc4-5988-449d-bb3d-abef3c130c60",
   "metadata": {},
   "outputs": [],
   "source": []
  }
 ],
 "metadata": {
  "kernelspec": {
   "display_name": "Python 3 (ipykernel)",
   "language": "python",
   "name": "python3"
  },
  "language_info": {
   "codemirror_mode": {
    "name": "ipython",
    "version": 3
   },
   "file_extension": ".py",
   "mimetype": "text/x-python",
   "name": "python",
   "nbconvert_exporter": "python",
   "pygments_lexer": "ipython3",
   "version": "3.12.4"
  }
 },
 "nbformat": 4,
 "nbformat_minor": 5
}
